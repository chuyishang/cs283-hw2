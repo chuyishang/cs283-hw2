{
 "cells": [
  {
   "cell_type": "markdown",
   "id": "e3a8b4f1",
   "metadata": {},
   "source": [
    "# Assignment 2: Tokenization, Word Embeddings, and Vector Algebra\n",
    "\n",
    "## Introduction\n",
    "In this assignment, we will explore the problem of getting from sequences of characters to wordtypes with different meanings. You will implement widely-used algorithms for tokenizing text and computing context-less word embeddings, and perform analysis on the results of running these algorithms.\n",
    "\n",
    "Learning objectives:\n",
    "* Understand how byte pair encoding works as a method for tokenizing character sequences, and how it differs from simpler tokenization methods like splitting on whitespace.\n",
    "* Gain insights on how to compute and interpret language statistics, including Zipf's laws of word frequencies.\n",
    "* Understand basics of distributional semantics, including basic implementations of word embedding algorithms.\n",
    "* Learn to use vector algebra as a way of analyzing a space of word embeddings.\n",
    "\n",
    "**Notes:**\n",
    "* In your solution, keep all code as-is except where it's explicitly mentioned to implement a function.\n",
    "* Items marked with a star (★) should be answered in a separate report as a text document with the corresponding item number. You will include your final report as a pdf with your submission.\n",
    "\n",
    "**Submission:**\n",
    "\n",
    "You will submit a single zip file `submission.zip` to Gradescope containing the following:\n",
    "\n",
    "```\n",
    "hw2.ipynb # your completed jupyter notebook\n",
    "report.pdf # your written report\n",
    "results/ # outputs from jupyter notebook\n",
    "├── solve_analogy.json\n",
    "├── W_en_fr.npy\n",
    "├── W_en_ja.npy\n",
    "└── ... (and all other generated files)\n",
    "```"
   ]
  },
  {
   "cell_type": "markdown",
   "id": "setup-cell-markdown",
   "metadata": {},
   "source": [
    "# Setup\n",
    "\n",
    "Run the following cell to set up the helper function for saving your results. This function will create a directory called `results` and save the output of each of your implemented functions as a `.json` file inside."
   ]
  },
  {
   "cell_type": "code",
   "execution_count": 1,
   "id": "setup-cell-code",
   "metadata": {},
   "outputs": [
    {
     "name": "stdout",
     "output_type": "stream",
     "text": [
      "Loaded 10000 sentences.\n",
      "First 5 sentences: ['The Happy Prince.', 'HIGH above the city, on a tall column, stood the statue of the Happy Prince.  He was gilded all over with thin leaves of fine gold, for eyes he had two bright sapphires, and a large red ruby glowed on his sword-hilt.', 'He was very much admired indeed.  “He is as beautiful as a weathercock,” remarked one of the Town Councillors who wished to gain a reputation for having artistic tastes; “only not quite so useful,” he added, fearing lest people should think him unpractical, which he really was not.', '“Why can’t you be like the Happy Prince?” asked a sensible mother of her little boy who was crying for the moon.  “The Happy Prince never dreams of crying for anything.”', '“I am glad there is some one in the world who is quite happy,” muttered a disappointed man as he gazed at the wonderful statue.']\n"
     ]
    }
   ],
   "source": [
    "import json\n",
    "import os\n",
    "from collections import Counter, defaultdict\n",
    "from typing import List, Dict, Tuple\n",
    "import matplotlib.pyplot as plt\n",
    "import numpy as np\n",
    "import random\n",
    "\n",
    "import torch\n",
    "import torch.nn as nn\n",
    "import torch.optim as optim\n",
    "from torch.utils.data import Dataset, DataLoader\n",
    "\n",
    "from tokenizers import ByteLevelBPETokenizer\n",
    "from tokenizers.normalizers import Lowercase\n",
    "\n",
    "# Set random seeds for reproducibility\n",
    "random.seed(42)\n",
    "np.random.seed(42)\n",
    "torch.manual_seed(42)\n",
    "\n",
    "def save_results(results, filename):\n",
    "    if not os.path.exists('results'):\n",
    "        os.makedirs('results')\n",
    "    with open(os.path.join('results', filename), \"w\") as f:\n",
    "        json.dump(results, f, indent=4)\n",
    "\n",
    "# Load the corpus\n",
    "with open('data/stories.txt', 'r', encoding='utf-8') as f:\n",
    "    en_corpus = [line.strip() for line in f.readlines()]\n",
    "\n",
    "print(f\"Loaded {len(en_corpus)} sentences.\")\n",
    "print(\"First 5 sentences:\", en_corpus[:5])"
   ]
  },
  {
   "cell_type": "markdown",
   "id": "a9b2c1d0",
   "metadata": {},
   "source": [
    "## Part 1: Tokenization (25 points)\n",
    "\n",
    "In this part, you will implement two standard methods for tokenization to convert a sequence of characters into a sequence of tokens."
   ]
  },
  {
   "cell_type": "markdown",
   "id": "f8d7e6c5",
   "metadata": {},
   "source": [
    "### Part 1.0: Setup\n",
    "**Implement:** A helper function that, given a sequence of tokenized sentences, returns a dictionary pairing word types with their counts."
   ]
  },
  {
   "cell_type": "code",
   "execution_count": 2,
   "id": "cc4aef4e",
   "metadata": {},
   "outputs": [],
   "source": [
    "def count_word_types(tokenized_sentences: List[List[str]]) -> Dict[str, int]:\n",
    "    \"\"\"\n",
    "    Given a list of tokenized sentences, return a dictionary mapping each word type to its frequency.\n",
    "    \"\"\"\n",
    "    # TODO: Implement this function\n",
    "    d = defaultdict(int)\n",
    "    for sentence in tokenized_sentences:\n",
    "        for token in sentence:\n",
    "            d[token] += 1\n",
    "    return d\n",
    "\n",
    "\n",
    "word_counts_output = count_word_types(en_corpus)"
   ]
  },
  {
   "cell_type": "markdown",
   "id": "g7h8i9j0",
   "metadata": {},
   "source": [
    "### Part 1.1: Simple tokenization (10 points)\n",
    "**Implement:** A function that splits a given input string by whitespace into sequences of tokens."
   ]
  },
  {
   "cell_type": "code",
   "execution_count": 3,
   "id": "k1l2m3n4",
   "metadata": {},
   "outputs": [],
   "source": [
    "def simple_tokenize(text: str) -> List[str]:\n",
    "    \"\"\"\n",
    "    Splits a given input string by whitespace into a sequence of tokens.\n",
    "    \"\"\"\n",
    "    # TODO: Implement this function\n",
    "    return text.split()"
   ]
  },
  {
   "cell_type": "markdown",
   "id": "o5p6q7r8",
   "metadata": {},
   "source": [
    "**Report:**\n",
    "\n",
    "★ 1.1.1 Use the helper function to create a frequency dictionary for the sentences in `en_corpus`. What are the 10 most frequent wordtypes?\n",
    "\n",
    "★ 1.1.2 What are two limitations you observe in this simple tokenization method? Include examples that motivate these limitations."
   ]
  },
  {
   "cell_type": "code",
   "execution_count": 4,
   "id": "f208daa9",
   "metadata": {},
   "outputs": [
    {
     "name": "stdout",
     "output_type": "stream",
     "text": [
      "[(' ', 558753), ('e', 291861), ('t', 208957), ('a', 182766), ('h', 176648), ('o', 166640), ('n', 150590), ('i', 133220), ('s', 126879), ('r', 119415)]\n",
      "2938871\n"
     ]
    }
   ],
   "source": [
    "freq_dict = count_word_types(en_corpus)\n",
    "sorted_freq_dict = sorted(freq_dict.items(), key=lambda x: x[1], reverse=True)\n",
    "print(sorted_freq_dict[:10])\n",
    "print(sum(freq_dict.values()))"
   ]
  },
  {
   "cell_type": "markdown",
   "id": "s9t0u1v2",
   "metadata": {},
   "source": [
    "### Part 1.2: Byte pair encoding (15 points)\n",
    "**Implement:** The Byte Pair Encoding (BPE) algorithm by completing the methods in the class below.\n",
    "\n",
    "You'll need a few components:\n",
    "1. A function to get pair frequencies from the vocabulary.\n",
    "2. A function to merge a given pair in the vocabulary.\n",
    "3. A main training function that iteratively finds the best pair and merges it.\n",
    "4. A tokenizer function that applies the learned merges to new text."
   ]
  },
  {
   "cell_type": "code",
   "execution_count": 5,
   "id": "fe5fe632",
   "metadata": {},
   "outputs": [],
   "source": [
    "# I've done the Stanford 336 Course by Percy Liang and Tatsu independently, so I referenced that when doing this.\n",
    "class BPE():\n",
    "    \"\"\"Byte Pair Encoding (BPE) tokenizer.\"\"\"\n",
    "    \n",
    "    def __init__(self):\n",
    "        \"\"\"Initializes the BPE tokenizer.\n",
    "\n",
    "        Attributes:\n",
    "            merges (dict[tuple(str), str]): Dictionary mapping pairs of tuples to their merged symbol.\n",
    "            vocab (dict[int, str]): Dictionary mapping integer ids to their corresponding tokens.\n",
    "        \"\"\"\n",
    "        self.merges = {}\n",
    "        self.vocab = {}\n",
    "\n",
    "    def get_stats(self, word_freqs: Counter[str]) -> Counter[tuple[str, str]]:\n",
    "        \"\"\"Counts the frequency of pairs in the vocabulary.\n",
    "\n",
    "        Args:\n",
    "            word_freqs: Counter[str]\n",
    "        \n",
    "        Returns:\n",
    "            Counter[tuple[str, str]] representing the frequency of each pair in the vocabulary.\n",
    "        \"\"\"\n",
    "        # TODO: Implement this function\n",
    "        pair_counts = Counter()\n",
    "        for word in word_freqs.keys():\n",
    "            word_tokens = word.split()\n",
    "            for i in range(len(word_tokens)-1):\n",
    "                pair_counts[(word_tokens[i], word_tokens[i+1])] += word_freqs[word]\n",
    "        return pair_counts\n",
    "    \n",
    "    def get_most_frequent_pair(self, pair_counts: Counter[tuple[str, str]]) -> tuple[str, str]:\n",
    "        \"\"\"Helper function to get the most frequent pair from the pair counts.\n",
    "\n",
    "        Args:\n",
    "            pair_counts (Counter[tuple[str, str]]): Counter object containing the frequency of each pair in the vocabulary.\n",
    "        \n",
    "        Returns:\n",
    "            tuple[str, str] representing the most frequent pair in the vocabulary.\n",
    "        \"\"\"\n",
    "        return max(pair_counts.items(), key=lambda x: x[1])[0]\n",
    "\n",
    "    def merge(self, pair: tuple[str, str], word_freqs: Counter[str]) -> None:\n",
    "        \"\"\"Merges a pair of symbols into a new symbol in the vocabulary.\n",
    "\n",
    "        Args:\n",
    "            pair (tuple[str, str]): Pair of symbols to merge.\n",
    "            word_freqs (Counter[str]): Counter object containing the frequency of each word in the vocabulary.\n",
    "        \n",
    "        Outputs:\n",
    "            None, but updates the word_freqs counter to reflect the new symbol.\n",
    "        \"\"\"\n",
    "        merged_token = pair[0] + pair[1]\n",
    "        \n",
    "        self.vocab[len(self.vocab)] = merged_token\n",
    "        self.merges[pair] = merged_token\n",
    "        \n",
    "        new_word_freqs = Counter()\n",
    "        for word, freq in word_freqs.items():\n",
    "            tokens = word.split()\n",
    "            new_tokens = []\n",
    "            i = 0\n",
    "            while i < len(tokens):\n",
    "                if i < len(tokens) - 1 and tokens[i] == pair[0] and tokens[i+1] == pair[1]:\n",
    "                    new_tokens.append(merged_token)\n",
    "                    i += 2\n",
    "                else:\n",
    "                    new_tokens.append(tokens[i])\n",
    "                    i += 1\n",
    "            new_word = ' '.join(new_tokens)\n",
    "            new_word_freqs[new_word] += freq\n",
    "        \n",
    "        word_freqs.clear()\n",
    "        word_freqs.update(new_word_freqs)\n",
    "\n",
    "\n",
    "    def train(self, corpus: list[str], vocab_size: int):\n",
    "        \"\"\"Trains the tokenizer on a given corpus.\n",
    "        \n",
    "        Args:\n",
    "            corpus (list[str]): Corpus containing a list of sentences.\n",
    "            vocab_size (int): Maximum size of the vocabulary.\n",
    "        \n",
    "        Returns:\n",
    "            ???\n",
    "        \"\"\"\n",
    "\n",
    "        # 1. Initialize vocabulary and pre-tokenize the corpus\n",
    "        initial_vocab = set()\n",
    "        word_freqs = defaultdict(int)\n",
    "        \n",
    "        # Prepare the initial word frequency map\n",
    "        for text in corpus:\n",
    "            words = text.strip().split()\n",
    "            for word in words:\n",
    "                processed_word = ' '.join(list(word))\n",
    "                word_freqs[processed_word] += 1\n",
    "                initial_vocab.update(list(word))\n",
    "\n",
    "        # The initial vocabulary includes all single characters\n",
    "        self.vocab = {i: char for i, char in enumerate(sorted(list(initial_vocab)))}\n",
    "\n",
    "        # 2. Iteratively merge the most frequent pair\n",
    "        # TODO: Implement this function\n",
    "\n",
    "        while len(self.vocab) < vocab_size:\n",
    "            most_frequent_pair = self.get_most_frequent_pair(self.get_stats(word_freqs))\n",
    "            self.merge(most_frequent_pair, word_freqs)\n",
    "        return self.vocab\n",
    "\n",
    "    def tokenize(self, text: str) -> list[str]:\n",
    "        \"\"\"Tokenizes a new sentence using the learned merge rules.\"\"\"\n",
    "        # TODO: Implement this function\n",
    "        words = text.split()\n",
    "        tokenized_words = []\n",
    "        \n",
    "        for word in words:\n",
    "            tokens = list(word)\n",
    "            \n",
    "            for pair, merged_token in self.merges.items():\n",
    "                new_tokens = []\n",
    "                i = 0\n",
    "                while i < len(tokens):\n",
    "                    if i < len(tokens) - 1 and tokens[i] == pair[0] and tokens[i+1] == pair[1]:\n",
    "                        new_tokens.append(merged_token)\n",
    "                        i += 2\n",
    "                    else:\n",
    "                        new_tokens.append(tokens[i])\n",
    "                        i += 1\n",
    "                tokens = new_tokens\n",
    "            \n",
    "            tokenized_words.extend(tokens)\n",
    "        \n",
    "        return tokenized_words\n",
    "\n",
    "    def decode(self, tokens: list[str]) -> str:\n",
    "        \"\"\"Decodes a sequence of tokens back into a string.\"\"\"\n",
    "        # TODO: Implement this function\n",
    "        return ''.join(tokens)"
   ]
  },
  {
   "cell_type": "markdown",
   "id": "142cb6c0",
   "metadata": {},
   "source": [
    "#### 💾 Save your results for `BPE`"
   ]
  },
  {
   "cell_type": "code",
   "execution_count": 6,
   "id": "1f178240",
   "metadata": {},
   "outputs": [
    {
     "name": "stdout",
     "output_type": "stream",
     "text": [
      "Saved results for BPE merges and vocabulary.\n"
     ]
    }
   ],
   "source": [
    "bpe_tokenizer = BPE()\n",
    "bpe_tokenizer.train(en_corpus, vocab_size=500)\n",
    "\n",
    "# Save the learned merges and vocabulary\n",
    "save_results({str(k): v for k, v in bpe_tokenizer.merges.items()}, 'bpe_merges.json')\n",
    "save_results(bpe_tokenizer.vocab, 'bpe_vocab.json')\n",
    "print(\"Saved results for BPE merges and vocabulary.\")"
   ]
  },
  {
   "cell_type": "markdown",
   "id": "a1b2c3d4",
   "metadata": {},
   "source": [
    "**Report:**\n",
    "\n",
    "★ 1.2.1 What are the 10 most frequent wordtypes from your BPE tokenizer?\n",
    "\n",
    "★ 1.2.2 Generate a plot showing the Zipfian distribution of wordtypes (i.e., a log-log plot of frequency vs. rank). Compare the distributions from simple whitespace tokenization and BPE. Include the plots and your comparison in the report, make sure your plot is clearly labeled.\n",
    "\n",
    "★ 1.2.3 Why might these distributions look different from one another?"
   ]
  },
  {
   "cell_type": "code",
   "execution_count": 7,
   "id": "e5f6g7h8",
   "metadata": {},
   "outputs": [
    {
     "name": "stdout",
     "output_type": "stream",
     "text": [
      "10 most frequent:\n",
      "Token: the, Frequency: 35285\n",
      "Token: ,, Frequency: 30195\n",
      "Token: and, Frequency: 26701\n",
      "Token: s, Frequency: 20350\n",
      "Token: a, Frequency: 17928\n",
      "Token: to, Frequency: 17864\n",
      "Token: ., Frequency: 15017\n",
      "Token: t, Frequency: 14150\n",
      "Token: he, Frequency: 12738\n",
      "Token: in, Frequency: 11956\n"
     ]
    }
   ],
   "source": [
    "# TODO: Use this space to generate your Zipfian plot.\n",
    "tokenized_corpus = [bpe_tokenizer.tokenize(sentence) for sentence in en_corpus]\n",
    "all_tokens = [token for sentence in tokenized_corpus for token in sentence]\n",
    "token_counts = Counter(all_tokens)\n",
    "most_common_tokens = token_counts.most_common(10)\n",
    "\n",
    "print(\"10 most frequent:\")\n",
    "for token, count in most_common_tokens:\n",
    "    print(f\"Token: {token}, Frequency: {count}\")"
   ]
  },
  {
   "cell_type": "code",
   "execution_count": 8,
   "id": "82dbd8ce",
   "metadata": {},
   "outputs": [],
   "source": [
    "# Simple whitespace tokenization\n",
    "simple_tokenized_corpus = [simple_tokenize(sentence) for sentence in en_corpus]\n",
    "simple_all_tokens = [token for sentence in simple_tokenized_corpus for token in sentence]\n",
    "simple_token_counts = Counter(simple_all_tokens)"
   ]
  },
  {
   "cell_type": "code",
   "execution_count": 14,
   "id": "71b4eb76",
   "metadata": {},
   "outputs": [
    {
     "data": {
      "text/plain": [
       "Text(0.5, 1.0, 'Simple Encoding Zipfian Distribution')"
      ]
     },
     "execution_count": 14,
     "metadata": {},
     "output_type": "execute_result"
    },
    {
     "data": {
      "image/png": "[encoded data removed]",
      "text/plain": [
       "<Figure size 640x480 with 1 Axes>"
      ]
     },
     "metadata": {},
     "output_type": "display_data"
    },
    {
     "data": {
      "image/png": "[encoded data removed]",
      "text/plain": [
       "<Figure size 640x480 with 1 Axes>"
      ]
     },
     "metadata": {},
     "output_type": "display_data"
    }
   ],
   "source": [
    "# Plotting\n",
    "bpe_counts = np.array(sorted(token_counts.values(), reverse=True), dtype=float)\n",
    "bpe_ranks = np.arange(1, len(bpe_counts) + 1, dtype=float)\n",
    "\n",
    "plt.figure()\n",
    "plt.loglog(bpe_ranks, bpe_counts, marker='.', linestyle='none') # got a bit of help from chatGPT for how to plot the log-log relationship\n",
    "plt.xlabel(\"Rank\")\n",
    "plt.ylabel(\"Frequency\")\n",
    "plt.title(\"BPE Zipfian Distribution\")\n",
    "\n",
    "simple_counts = np.array(sorted(simple_token_counts.values(), reverse=True), dtype=float)\n",
    "simple_ranks = np.arange(1, len(simple_counts) + 1, dtype=float)\n",
    "\n",
    "plt.figure()\n",
    "plt.loglog(simple_ranks, simple_counts, marker='.', linestyle='none') # got a bit of help from chatGPT for how to plot the log-log relationship\n",
    "plt.xlabel(\"Rank\")\n",
    "plt.ylabel(\"Frequency\")\n",
    "plt.title(\"Simple Encoding Zipfian Distribution\")"
   ]
  },
  {
   "cell_type": "markdown",
   "id": "i9j0k1l2",
   "metadata": {},
   "source": [
    "## Part 2: Word embeddings (25 points)\n",
    "\n",
    "In this part, you will implement the Skip-Gram model to compute word embeddings for the words in your corpus."
   ]
  },
  {
   "cell_type": "markdown",
   "id": "cee44fd8",
   "metadata": {},
   "source": [
    "### Part 2.0: Setup\n",
    "For the remainder of the assignment, we will use `ByteLevelBPETokenizer` from the `tokenizers` library. "
   ]
  },
  {
   "cell_type": "code",
   "execution_count": 15,
   "id": "c4aee916",
   "metadata": {},
   "outputs": [
    {
     "name": "stdout",
     "output_type": "stream",
     "text": [
      "\n",
      "\n",
      "\n"
     ]
    }
   ],
   "source": [
    "def get_tokenizer(data_path: str, vocab_size=10000):\n",
    "    tokenizer = ByteLevelBPETokenizer()\n",
    "    tokenizer.normalizer = Lowercase()\n",
    "\n",
    "    tokenizer.train(files=data_path, vocab_size=vocab_size, min_frequency=2)\n",
    "\n",
    "    return tokenizer\n",
    "\n",
    "en_tokenizer = get_tokenizer(\"data/stories.txt\")\n",
    "en_tokenized = [en_tokenizer.encode(s).ids for s in en_corpus]"
   ]
  },
  {
   "cell_type": "markdown",
   "id": "u1v2w3x4",
   "metadata": {},
   "source": [
    "### Part 2.1: Experiment with different contexts (5 points)\n",
    "\n",
    "First, let's explore different implementations of context for the Skip-Gram model.\n",
    "\n",
    "**Implement:** Two functions that map from tokenized sentences and words to contexts:\n",
    "\n",
    "##### a)  **Bag-of-Words Context** \n",
    "The first function should, for each target token $w$, create a positive example $(w, c)$ for every additional token $c$ in the sentence. \n",
    "\n",
    "I.e., for a sentence $\\langle x_1, \\dots, x_m \\rangle$ of length $m$ tokens, we should create $m \\cdot (m - 1)$ positive examples: $\\bigcup_{1 \\leq i \\leq m} \\bigcup_{1 \\leq j \\leq m, i \\neq j} \\left\\{ (x_i, x_j) \\right\\}$.\n",
    "   \n",
    "##### b)  **Neighboring Tokens Context** \n",
    "\n",
    "The second function should, for each target token $w$, create a positive example $(w, c)$ for each of the tokens within a window of up to size $N$ before and after the target token's index. \n",
    "\n",
    "I.e., for a sentence $\\langle x_1, \\dots, x_m \\rangle$ of length $m$ tokens, we should create $m \\cdot 2N$ positive examples: $\\bigcup_{1 \\leq i \\leq m}\\bigcup_{1 \\leq j \\leq N}\\{ (x_i, (-j, x_{i-j})), (x_i, (j, x_{i + j}) )\\}$. \n",
    "\n",
    "Here, contexts are  not just individual wordtypes, but the wordtypes are paired with some positive or negative distance away from the target token. For cases where the window is out of bounds of the sentence (i.e., $i - j < 1$ or $i + j > m$), you can create a special wordtype (e.g., \\<BOS\\> or \\<EOS\\>)."
   ]
  },
  {
   "cell_type": "code",
   "execution_count": 17,
   "id": "y5z6a1b2",
   "metadata": {},
   "outputs": [],
   "source": [
    "def get_bow_context(tokenized_sentences: List[List[str]]) -> List[Tuple[int, int]]:\n",
    "    \"\"\"\n",
    "    Creates positive (target, context) examples where context is any other word in the sentence.\n",
    "    NOTE: this is modified to return ints, as according to the Ed clarifications.\n",
    "    \"\"\"\n",
    "    # TODO: Implement this function\n",
    "    out_context = []\n",
    "    for sentence in tokenized_sentences:\n",
    "        for i in range(len(sentence)):\n",
    "            for j in range(len(sentence)):\n",
    "                if i != j:\n",
    "                    out_context.append((sentence[i], sentence[j]))\n",
    "    return out_context\n",
    "\n",
    "\n",
    "def get_neighbor_context(tokenized_sentences: List[List[int]], window_size: int) -> List[Tuple[int, int]]:\n",
    "    \"\"\"\n",
    "    Creates positive (target, context) examples from tokens within a given window size.\n",
    "    \"\"\"\n",
    "    # TODO: Implement this function\n",
    "    out_context = []\n",
    "    for sentence in tokenized_sentences:\n",
    "        for i in range(len(sentence)):\n",
    "            for j in range(1, window_size+1):\n",
    "                ctx_left_idx = i - j\n",
    "                ctx_right_idx = i + j\n",
    "                if ctx_left_idx >= 0:\n",
    "                    out_context.append((sentence[i], sentence[ctx_left_idx]))\n",
    "                if ctx_right_idx < len(sentence):\n",
    "                    out_context.append((sentence[i], sentence[ctx_right_idx]))\n",
    "    return out_context\n",
    "    "
   ]
  },
  {
   "cell_type": "markdown",
   "id": "24d617db",
   "metadata": {},
   "source": [
    "#### 💾 Save your results for `get_neighbor_context`"
   ]
  },
  {
   "cell_type": "code",
   "execution_count": 18,
   "id": "22017200",
   "metadata": {},
   "outputs": [
    {
     "name": "stdout",
     "output_type": "stream",
     "text": [
      "Saved results for get_neighbor_context.\n"
     ]
    }
   ],
   "source": [
    "neighbor_pairs = get_neighbor_context(en_tokenized, window_size=2)\n",
    "save_results(neighbor_pairs[:10000], 'neighbor_context.json')\n",
    "print(\"Saved results for get_neighbor_context.\")"
   ]
  },
  {
   "cell_type": "markdown",
   "id": "c3d4e5f6",
   "metadata": {},
   "source": [
    "### Part 2.3: Negative sampling (5 points)\n",
    "To train the Skip-Gram model efficiently, we use negative sampling. First, we model the probability distribution over contexts.\n",
    "\n",
    "**Implement:** A function that computes a distribution over the contexts $\\mathcal{C}$ given a dataset of word-context pairs $\\mathcal{D}$."
   ]
  },
  {
   "cell_type": "code",
   "execution_count": 19,
   "id": "2ba7efe7",
   "metadata": {},
   "outputs": [],
   "source": [
    "def get_context_distribution(pairs: List[Tuple[int, int]], vocab_size: int) -> List[float]:\n",
    "    \"\"\"\n",
    "    Computes the probability distribution over contexts P(c).\n",
    "\n",
    "    Args:\n",
    "        pairs: A list of (token, context) pairs.\n",
    "        vocab_size: The size of the vocabulary.\n",
    "\n",
    "    Returns:\n",
    "        A list of probabilities for each context token, ordered by token index.\n",
    "    \"\"\"\n",
    "    # TODO: Implement this function\n",
    "    context_distribution = [0] * vocab_size\n",
    "    for pair in pairs:\n",
    "        context_distribution[pair[1]] += 1\n",
    "    context_distribution = [x / len(pairs) for x in context_distribution]\n",
    "    return torch.tensor(context_distribution)\n"
   ]
  },
  {
   "cell_type": "markdown",
   "id": "8c831a9b",
   "metadata": {},
   "source": [
    "**Implement:** A function for sampling negative pairs of tokens and contexts given the prior over contexts $\\mathcal{C}$."
   ]
  },
  {
   "cell_type": "code",
   "execution_count": 20,
   "id": "2c23ed94",
   "metadata": {},
   "outputs": [],
   "source": [
    "\n",
    "def sample_negative_contexts(context_distribution: torch.Tensor, num_samples: int, batch_size=1) -> torch.Tensor:\n",
    "    \"\"\"\n",
    "    Samples negative contexts based on the context distribution.\n",
    "    \"\"\"\n",
    "    # TODO: Implement this function\n",
    "    # context_distribution = context_distribution / context_distribution.sum()\n",
    "    # batched_distribution = context_distribution.repeat(batch_size, 1)\n",
    "    batched_distribution = context_distribution.expand(batch_size, -1)\n",
    "    return torch.multinomial(batched_distribution, num_samples, replacement=True)\n"
   ]
  },
  {
   "cell_type": "markdown",
   "id": "k1l2m3n4-report",
   "metadata": {},
   "source": [
    "**Report:**\n",
    "\n",
    "★ 2.3.1 For each of the following context settings, list the highest-probability *negative* sample according to the priors you computed:\n",
    "- Context as a bag of words.\n",
    "- Context as neighboring tokens, $N=1$.\n",
    "- Context as neighboring tokens, $N=2$."
   ]
  },
  {
   "cell_type": "code",
   "execution_count": null,
   "id": "104e13fc",
   "metadata": {},
   "outputs": [
    {
     "name": "stdout",
     "output_type": "stream",
     "text": [
      ",\n",
      ",\n",
      ",\n"
     ]
    }
   ],
   "source": [
    "# NOTE: Scratch work here\n",
    "# Neighboring N=1\n",
    "neighbor_pairs = get_neighbor_context(en_tokenized, window_size=2)\n",
    "ctx_dist = get_context_distribution(neighbor_pairs, len(en_tokenizer.get_vocab()))\n",
    "samples = sample_negative_contexts(ctx_dist, 10000, 1)\n",
    "highest_prob_token = torch.argmax(ctx_dist)\n",
    "print(en_tokenizer.decode([highest_prob_token]))\n",
    "\n",
    "# Neighboring N=2\n",
    "neighbor_pairs = get_neighbor_context(en_tokenized, window_size=1)\n",
    "ctx_dist = get_context_distribution(neighbor_pairs, len(en_tokenizer.get_vocab()))\n",
    "samples = sample_negative_contexts(ctx_dist, 10000, 1)\n",
    "highest_prob_token = torch.argmax(ctx_dist)\n",
    "print(en_tokenizer.decode([highest_prob_token]))\n",
    "\n",
    "# BOW\n",
    "neighbor_pairs = get_bow_context(en_tokenized)\n",
    "ctx_dist = get_context_distribution(neighbor_pairs, len(en_tokenizer.get_vocab()))\n",
    "samples = sample_negative_contexts(ctx_dist, 10000, 1)\n",
    "highest_prob_token = torch.argmax(ctx_dist)\n",
    "print(en_tokenizer.decode([highest_prob_token]))"
   ]
  },
  {
   "cell_type": "markdown",
   "id": "o5p6q7r8-analysis",
   "metadata": {},
   "source": [
    "### Part 2.4: Train the Skip-Gram model and analyze embeddings (15 points)\n",
    "\n",
    "Now, we'll define our Skip-Gram model and train it on our corpus.\n",
    "\n",
    "**Implement:** A Skip-Gram model in PyTorch. The model should consist of two embedding layers: one for the target words and one for the context words."
   ]
  },
  {
   "cell_type": "code",
   "execution_count": 21,
   "id": "8347e4c5",
   "metadata": {},
   "outputs": [],
   "source": [
    "class SkipGramModel(nn.Module):\n",
    "    def __init__(self, vocab_size: int, embedding_dim: int):\n",
    "        super(SkipGramModel, self).__init__()\n",
    "        # TODO: Implement the model layers\n",
    "        self.target_embeddings = nn.Embedding(vocab_size, embedding_dim)\n",
    "        self.output_embeddings = nn.Embedding(vocab_size, embedding_dim)\n",
    "\n",
    "    def forward(self, target, context):\n",
    "        # TODO: Implement the forward pass\n",
    "        # targets should be (B, 1)\n",
    "        # context should be (B, K)\n",
    "        if target.dim() == 1:\n",
    "            target = target.unsqueeze(1)\n",
    "        target_embeds = self.target_embeddings(target) # (B, 1, D)\n",
    "        context_embeds = self.output_embeddings(context) # (B, K, D)\n",
    "        # return torch.sum(target_embeds.unsqueeze(1) * context_embeds, dim=-1) # (B, K)\n",
    "        return torch.sum(target_embeds * context_embeds, dim=-1) # (B, K)\n",
    "        \n"
   ]
  },
  {
   "cell_type": "markdown",
   "id": "f6e485f4",
   "metadata": {},
   "source": [
    "**Implement:** Train your Skip-Gram model using the tokenized data `en_tokenized`. You may want to implement batching to speed things up.\n"
   ]
  },
  {
   "cell_type": "code",
   "execution_count": 22,
   "id": "111f91b9",
   "metadata": {},
   "outputs": [],
   "source": [
    "# from tqdm import tqdm\n",
    "device = 'cuda'\n",
    "\n",
    "class SkipGramDataset(Dataset):\n",
    "    def __init__(self, pairs: List[Tuple[int, int]]):\n",
    "        self.pairs = pairs\n",
    "        \n",
    "    def __len__(self):\n",
    "        return len(self.pairs)\n",
    "\n",
    "    def __getitem__(self, idx):\n",
    "        return self.pairs[idx]\n",
    "\n",
    "def train_skipgram(corpus, tokenizer, num_epochs=30):\n",
    "\n",
    "    # Initialize the model, loss function, optimizer, and dataloader\n",
    "\n",
    "    embedding_dim = 128\n",
    "    vocab_size = len(tokenizer.get_vocab())\n",
    "    model = SkipGramModel(vocab_size, embedding_dim).to(device)\n",
    "    criterion = nn.BCEWithLogitsLoss()\n",
    "    optimizer = optim.Adam(model.parameters(), lr=0.01)\n",
    "    batch_size = 2**16\n",
    "\n",
    "    neighbor_pairs = get_neighbor_context([tokenizer.encode(s).ids for s in corpus], window_size=5)\n",
    "    dataset = SkipGramDataset(neighbor_pairs)\n",
    "    dataloader = DataLoader(\n",
    "        dataset,\n",
    "        batch_size=batch_size,\n",
    "        shuffle=True,\n",
    "    )    \n",
    "\n",
    "    # Training loop\n",
    "    # TODO: Implement this. \n",
    "    # You will need to combine positive and negative samples in the loss computation, and adjust the labels accordingly.\n",
    "    NUM_NEGATIVE_SAMPLES = 31\n",
    "    context_dist = get_context_distribution(neighbor_pairs, vocab_size)\n",
    "\n",
    "    # if not os.path.exists('cached_neg_ctx.pt'):\n",
    "        # print(\"CACHING\")\n",
    "        # cached_neg_ctx = []\n",
    "        # for step, batch in enumerate(tqdm(dataloader)):\n",
    "            # neg_ctx = sample_negative_contexts(context_dist, NUM_NEGATIVE_SAMPLES, batch_size) # (B, K-1)\n",
    "            # cached_neg_ctx.append(neg_ctx)\n",
    "        # cached_neg_ctx = torch.stack(cached_neg_ctx, dim=0)\n",
    "        # torch.save(cached_neg_ctx, 'cached_neg_ctx.pt')\n",
    "        # print(\"finished caching\") \n",
    "        # print(f\"cached_neg_ctx.shape: {cached_neg_ctx.shape}\")\n",
    "    # else:\n",
    "        # cached_neg_ctx = torch.load('cached_neg_ctx.pt')\n",
    "        # print(\"loaded cached negative contexts\")\n",
    "        # print(f\"cached_neg_ctx.shape: {cached_neg_ctx.shape}\")\n",
    "\n",
    "\n",
    "\n",
    "    model.train()\n",
    "    step = 0\n",
    "    for epoch in range(num_epochs):\n",
    "        for step, batch in enumerate(tqdm(dataloader)):\n",
    "            target, positive_context = batch\n",
    "\n",
    "            # cached_neg_ctx_step = cached_neg_ctx[torch.randperm(cached_neg_ctx.size(0))]\n",
    "            # negative_contexts = cached_neg_ctx[step]\n",
    "            negative_contexts = sample_negative_contexts(context_dist, NUM_NEGATIVE_SAMPLES, target.shape[0]) # (B, K-1)\n",
    "\n",
    "            target = target.unsqueeze(1).to(device) # (B, 1)\n",
    "            positive_context = positive_context.unsqueeze(1) # (B, 1)\n",
    "            full_context = torch.cat([positive_context, negative_contexts], dim=-1).to(device) # (B, K)\n",
    "\n",
    "            scores = model(target, full_context) # (B, K)\n",
    "            labels = torch.zeros_like(scores, dtype=torch.float, device=device)\n",
    "            labels[:, 0] = 1.0\n",
    "            labels = labels.to(device)\n",
    "            loss = criterion(scores, labels)\n",
    "            optimizer.zero_grad()\n",
    "            loss.backward()\n",
    "            optimizer.step()\n",
    "\n",
    "            if step % 100 == 0:\n",
    "                print(f\"Loss: {loss.item()}\")\n",
    "        print(f\"EPOCH {epoch+1} COMPLETED\")\n",
    "    return model"
   ]
  },
  {
   "cell_type": "markdown",
   "id": "855500d3",
   "metadata": {},
   "source": [
    "#### 💾 Save your model outputs"
   ]
  },
  {
   "cell_type": "code",
   "execution_count": 23,
   "id": "s9t0u1v2-train",
   "metadata": {
    "collapsed": true,
    "jupyter": {
     "outputs_hidden": true
    }
   },
   "outputs": [
    {
     "ename": "FileNotFoundError",
     "evalue": "[Errno 2] No such file or directory: 'results/skipgram_model.pth'",
     "output_type": "error",
     "traceback": [
      "\u001b[0;31m---------------------------------------------------------------------------\u001b[0m",
      "\u001b[0;31mFileNotFoundError\u001b[0m                         Traceback (most recent call last)",
      "Cell \u001b[0;32mIn[23], line 7\u001b[0m\n\u001b[1;32m      1\u001b[0m device \u001b[38;5;241m=\u001b[39m \u001b[38;5;124m'\u001b[39m\u001b[38;5;124mcuda\u001b[39m\u001b[38;5;124m'\u001b[39m\n\u001b[1;32m      4\u001b[0m \u001b[38;5;66;03m# model = train_skipgram(en_corpus, en_tokenizer, num_epochs=30)\u001b[39;00m\n\u001b[1;32m      5\u001b[0m \u001b[38;5;66;03m# model = train_skipgram(en_corpus, en_tokenizer, num_epochs=1)\u001b[39;00m\n\u001b[1;32m      6\u001b[0m \u001b[38;5;66;03m# torch.save(model.state_dict(), 'results/skipgram_model.pth')\u001b[39;00m\n\u001b[0;32m----> 7\u001b[0m \u001b[38;5;28;01mwith\u001b[39;00m \u001b[38;5;28;43mopen\u001b[39;49m\u001b[43m(\u001b[49m\u001b[38;5;124;43m'\u001b[39;49m\u001b[38;5;124;43mresults/skipgram_model.pth\u001b[39;49m\u001b[38;5;124;43m'\u001b[39;49m\u001b[43m,\u001b[49m\u001b[43m \u001b[49m\u001b[38;5;124;43m'\u001b[39;49m\u001b[38;5;124;43mrb\u001b[39;49m\u001b[38;5;124;43m'\u001b[39;49m\u001b[43m)\u001b[49m \u001b[38;5;28;01mas\u001b[39;00m f:\n\u001b[1;32m      8\u001b[0m     model\u001b[38;5;241m.\u001b[39mload_state_dict(torch\u001b[38;5;241m.\u001b[39mload(f))\n\u001b[1;32m      9\u001b[0m     model\u001b[38;5;241m.\u001b[39mto(device)\n",
      "File \u001b[0;32m~/miniconda3/envs/ugrad-nlp/lib/python3.10/site-packages/IPython/core/interactiveshell.py:324\u001b[0m, in \u001b[0;36m_modified_open\u001b[0;34m(file, *args, **kwargs)\u001b[0m\n\u001b[1;32m    317\u001b[0m \u001b[38;5;28;01mif\u001b[39;00m file \u001b[38;5;129;01min\u001b[39;00m {\u001b[38;5;241m0\u001b[39m, \u001b[38;5;241m1\u001b[39m, \u001b[38;5;241m2\u001b[39m}:\n\u001b[1;32m    318\u001b[0m     \u001b[38;5;28;01mraise\u001b[39;00m \u001b[38;5;167;01mValueError\u001b[39;00m(\n\u001b[1;32m    319\u001b[0m         \u001b[38;5;124mf\u001b[39m\u001b[38;5;124m\"\u001b[39m\u001b[38;5;124mIPython won\u001b[39m\u001b[38;5;124m'\u001b[39m\u001b[38;5;124mt let you open fd=\u001b[39m\u001b[38;5;132;01m{\u001b[39;00mfile\u001b[38;5;132;01m}\u001b[39;00m\u001b[38;5;124m by default \u001b[39m\u001b[38;5;124m\"\u001b[39m\n\u001b[1;32m    320\u001b[0m         \u001b[38;5;124m\"\u001b[39m\u001b[38;5;124mas it is likely to crash IPython. If you know what you are doing, \u001b[39m\u001b[38;5;124m\"\u001b[39m\n\u001b[1;32m    321\u001b[0m         \u001b[38;5;124m\"\u001b[39m\u001b[38;5;124myou can use builtins\u001b[39m\u001b[38;5;124m'\u001b[39m\u001b[38;5;124m open.\u001b[39m\u001b[38;5;124m\"\u001b[39m\n\u001b[1;32m    322\u001b[0m     )\n\u001b[0;32m--> 324\u001b[0m \u001b[38;5;28;01mreturn\u001b[39;00m \u001b[43mio_open\u001b[49m\u001b[43m(\u001b[49m\u001b[43mfile\u001b[49m\u001b[43m,\u001b[49m\u001b[43m \u001b[49m\u001b[38;5;241;43m*\u001b[39;49m\u001b[43margs\u001b[49m\u001b[43m,\u001b[49m\u001b[43m \u001b[49m\u001b[38;5;241;43m*\u001b[39;49m\u001b[38;5;241;43m*\u001b[39;49m\u001b[43mkwargs\u001b[49m\u001b[43m)\u001b[49m\n",
      "\u001b[0;31mFileNotFoundError\u001b[0m: [Errno 2] No such file or directory: 'results/skipgram_model.pth'"
     ]
    }
   ],
   "source": [
    "device = 'cuda'\n",
    "\n",
    "\n",
    "# model = train_skipgram(en_corpus, en_tokenizer, num_epochs=30)\n",
    "# model = train_skipgram(en_corpus, en_tokenizer, num_epochs=1)\n",
    "# torch.save(model.state_dict(), 'results/skipgram_model.pth')\n",
    "with open('results/skipgram_model.pth', 'rb') as f:\n",
    "    model.load_state_dict(torch.load(f))\n",
    "    model.to(device)\n",
    "    model.eval()\n",
    "\n",
    "test_center_word = torch.tensor(np.load('data/center_word.npy')).to(device)\n",
    "test_context_words = torch.tensor(np.load('data/context_words.npy')).to(device)\n",
    "print(test_center_word.shape, test_context_words.shape)\n",
    "\n",
    "test_scores = model(test_center_word, test_context_words)\n",
    "np.save('results/skipgram_scores.npy', test_scores.cpu().detach().numpy())"
   ]
  },
  {
   "cell_type": "markdown",
   "id": "0130d444",
   "metadata": {},
   "source": [
    "**Implement:** A function that, given a trained Skip-Gram model and a target wordtype, returns the cosine similarity of that wordtype's embedding with the embedding of every other wordtype in the vocabulary."
   ]
  },
  {
   "cell_type": "code",
   "execution_count": 89,
   "id": "b802b391",
   "metadata": {},
   "outputs": [],
   "source": [
    "def get_cosine_similarity(model: SkipGramModel, tokenizer: ByteLevelBPETokenizer, target_word: str) -> List[Tuple[str, float]]:\n",
    "    \"\"\"\n",
    "    Given a trained model and a target word, returns a list of (word, similarity_score) \n",
    "    for all words in the vocabulary (excluding the target word), sorted by similarity score.\n",
    "    \"\"\"\n",
    "    # TODO: Implement this function\n",
    "    embedding_matrix = model.target_embeddings.weight.detach() # (V, D)\n",
    "    # print(embedding_matrix.shape)\n",
    "    vocab = tokenizer.get_vocab()\n",
    "    # target_id = vocab[target_word]\n",
    "    # target_embed = embedding_matrix[target_id] # (D)\n",
    "    target_ids = tokenizer.encode(target_word).ids\n",
    "    # print(target_ids)\n",
    "    embeddings = embedding_matrix[target_ids]\n",
    "    # print(embeddings.shape)\n",
    "    target_embed = torch.mean(embeddings, dim=0)\n",
    "    # print(target_embed.shape)\n",
    "\n",
    "    norm_target_embed = target_embed / torch.norm(target_embed)\n",
    "    norm_embed_matrix = embedding_matrix / torch.norm(embedding_matrix, dim=1, keepdim=True)\n",
    "\n",
    "    print(norm_target_embed.shape, norm_embed_matrix.shape)\n",
    "\n",
    "    sims = (norm_embed_matrix @ norm_target_embed.unsqueeze(1)).flatten() # (V, D) x (D, 1) = (V, 1) -> (V)\n",
    "    # for target_id in target_ids:\n",
    "        # sims[target_id] = float(\"-inf\")\n",
    "\n",
    "    out_list = []\n",
    "    for i, sim in enumerate(sims):\n",
    "        # if i != target_id:\n",
    "            # out_list.append((tokenizer.decode([i]), float(sim)))\n",
    "        decoded = tokenizer.decode([i])\n",
    "        if decoded != target_word:\n",
    "            out_list.append((decoded, float(sim)))\n",
    "    out_list.sort(key=lambda x: x[1], reverse=True)\n",
    "    return out_list\n"
   ]
  },
  {
   "cell_type": "markdown",
   "id": "fc40e850",
   "metadata": {},
   "source": [
    "**Report:**\n",
    "\n",
    "★ 2.4.1 Use `get_cosine_similarity` to explore similar wordtypes for different English words. Give three examples of pairs of similar wordtypes that make sense, and three that don't. What are possible reasons for a high similarity score between two seemingly unrelated words?"
   ]
  },
  {
   "cell_type": "code",
   "execution_count": 100,
   "id": "9577e975",
   "metadata": {},
   "outputs": [
    {
     "name": "stdout",
     "output_type": "stream",
     "text": [
      "torch.Size([128]) torch.Size([10000, 128])\n",
      "[(' below', 0.4845505952835083), ('pot', 0.4338051378726959), (' service', 0.4332274794578552), (' didst', 0.43233466148376465), (' across', 0.4288783669471741), (' sitting', 0.42273595929145813), (' involuntarily', 0.4221460521221161), ('an', 0.4219568073749542), ('man', 0.4160875678062439), (' cousin', 0.40734925866127014), ('-', 0.4064388871192932), ('pend', 0.40512409806251526), (' rush', 0.404011607170105), (' opened', 0.40097302198410034), (' friends', 0.4005701541900635), (' bunch', 0.3997534215450287), ('well', 0.39963024854660034), (' departure', 0.3995365798473358), (' during', 0.3987198770046234), (' lie', 0.3965262472629547)]\n",
      "torch.Size([128]) torch.Size([10000, 128])\n",
      "[(' insisted', 0.45965734124183655), (' lap', 0.4458067715167999), (' grave', 0.443704217672348), (' hour', 0.4327261447906494), ('has', 0.43020695447921753), (' immortal', 0.4261927306652069), (' changeling', 0.42061591148376465), (' bestowed', 0.4184361398220062), ('gone', 0.41757529973983765), ('akes', 0.4098295271396637), ('akest', 0.40782034397125244), (' seat', 0.4075920283794403), (' shepherd', 0.40731459856033325), (' smiled', 0.4067836403846741), (' squir', 0.40667724609375), (' dismissal', 0.4007699489593506), ('window', 0.3978811204433441), (' sped', 0.39776235818862915), (' leaves', 0.39753463864326477), (' quarrelling', 0.3928450047969818)]\n",
      "torch.Size([128]) torch.Size([10000, 128])\n",
      "[('app', 0.8695878982543945), ('le', 0.7301928997039795), ('*', 0.4927455484867096), ('ith', 0.49144867062568665), ('un', 0.46820494532585144), ('y', 0.4595908522605896), ('atta', 0.4542016386985779), (' crab', 0.4534006714820862), (' tear', 0.44247710704803467), ('ings', 0.4412047564983368), (' frog', 0.4411454498767853), (' between', 0.440689355134964), (' bell', 0.4355432391166687), (' schulz', 0.43279221653938293), ('go', 0.4315234422683716), ('erted', 0.42186012864112854), (' asses', 0.42124542593955994), ('bub', 0.4197775423526764), ('trunk', 0.4193422794342041), ('aches', 0.41782212257385254)]\n"
     ]
    }
   ],
   "source": [
    "model = SkipGramModel(en_tokenizer.get_vocab_size(), 128).to(device)\n",
    "with open('skipgram_model.pth', 'rb') as f:\n",
    "    model.load_state_dict(torch.load(f))\n",
    "    model.to(device)\n",
    "    model.eval()\n",
    "\n",
    "\n",
    "out_list = get_cosine_similarity(model, en_tokenizer, \"house\")\n",
    "print(out_list[:20])\n",
    "\n",
    "out_list = get_cosine_similarity(model, en_tokenizer, \"dog\")\n",
    "print(out_list[:20])\n",
    "\n",
    "out_list = get_cosine_similarity(model, en_tokenizer, \"apple\")\n",
    "print(out_list[:20])\n",
    "\n",
    "\n",
    "# en_tokenizer.encode(\"reasefasdf\").ids"
   ]
  },
  {
   "cell_type": "markdown",
   "id": "a1b2c3d4-part3",
   "metadata": {},
   "source": [
    "## Part 3: Vector algebra (25 points)\n",
    "\n",
    "For the remainder of this homework, you will use a modern NLP library `spaCy`. You can find its documentation [here](https://spacy.io/usage/spacy-101).\n",
    "\n",
    "Install spaCy and its English, French, Japanese models with\n",
    "```\n",
    "pip install spacy\n",
    "python -m spacy download en_core_web_md\n",
    "python -m spacy download fr_core_news_md\n",
    "python -m spacy download ja_core_news_md\n",
    "```\n"
   ]
  },
  {
   "cell_type": "markdown",
   "id": "f89d948c",
   "metadata": {},
   "source": [
    "### Part 3.0: Setup"
   ]
  },
  {
   "cell_type": "code",
   "execution_count": 101,
   "id": "5a6a5ba0",
   "metadata": {},
   "outputs": [],
   "source": [
    "import spacy\n",
    "\n",
    "nlp_en = spacy.load(\"en_core_web_md\")\n",
    "nlp_fr = spacy.load(\"fr_core_news_md\")\n",
    "nlp_ja = spacy.load(\"ja_core_news_md\")"
   ]
  },
  {
   "cell_type": "markdown",
   "id": "e5f6g7h8-analogy",
   "metadata": {},
   "source": [
    "### Part 3.1: Word analogy (10 points)\n",
    "\n",
    "**Implement:** A function that, given two wordtypes representing a target analogy (e.g., *cat* and *kitten*) and an input wordtype to evaluate in that analogy (e.g., *dog*), returns the wordtype that (according to the learned embeddings) best fits as the analogy. Recall the formula for finding this in the slides."
   ]
  },
  {
   "cell_type": "code",
   "execution_count": 102,
   "id": "22e1340b",
   "metadata": {},
   "outputs": [
    {
     "name": "stdout",
     "output_type": "stream",
     "text": [
      "(20000, 300)\n"
     ]
    }
   ],
   "source": [
    "# dir(nlp_en)\n",
    "# print(nlp_en.tokenizer)\n",
    "print(nlp_en.vocab.vectors.data.shape)\n",
    "# nlp_en.vocab[\"test\"].vector.shape\n",
    "# len(nlp_en.vocab)"
   ]
  },
  {
   "cell_type": "code",
   "execution_count": 105,
   "id": "i9j0k1l2-analogy",
   "metadata": {},
   "outputs": [],
   "source": [
    "# Referred to spaCy documentation at https://spacy.io/api/lexeme and the function afterwards.\n",
    "# Also looked at some tips on EdStem\n",
    "# Asked chatGPT for how to Argsort\n",
    "def solve_analogy(model, a: str, b: str, c: str, n=5) -> str:\n",
    "    \"\"\"\n",
    "    Solves the analogy 'a is to b as c is to ?'.\n",
    "    Returns the word from the vocabulary whose embedding is closest to vec(b) - vec(a) + vec(c).\n",
    "    \"\"\"\n",
    "    # TODO: Implement this function\n",
    "    a_emb = model.vocab[a].vector # [D, ]\n",
    "    b_emb = model.vocab[b].vector \n",
    "    c_emb = model.vocab[c].vector\n",
    "    target = b_emb - a_emb + c_emb # [D, ]\n",
    "\n",
    "    norm_target = target / (np.linalg.norm(target))\n",
    "\n",
    "    embedding = nlp_en.vocab.vectors.data # [V, D]\n",
    "    norm_embedding = embedding / (np.linalg.norm(embedding, axis=1, keepdims=True))\n",
    "\n",
    "    sims = norm_embedding @ norm_target\n",
    "    # print(sims.shape)\n",
    "    # max_sim = np.argmax(sims)\n",
    "    top_indices = np.argsort(-sims)[:n]\n",
    "    for idx in top_indices:\n",
    "        # print(idx)\n",
    "        key = list(model.vocab.vectors.keys())[idx]\n",
    "        top_word = model.vocab.strings[key]\n",
    "        if top_word not in [a, b, c]:\n",
    "            return top_word\n",
    "    return None"
   ]
  },
  {
   "cell_type": "markdown",
   "id": "4c4f32a1",
   "metadata": {},
   "source": [
    "#### 💾 Save your results for `solve_analogy`"
   ]
  },
  {
   "cell_type": "code",
   "execution_count": 106,
   "id": "996dd4d6",
   "metadata": {},
   "outputs": [
    {
     "name": "stdout",
     "output_type": "stream",
     "text": [
      "king:queen::man:? -> lady (expected: woman)\n",
      "paris:france::berlin:? -> Berlin (expected: germany)\n",
      "car:driver::train:? -> trains (expected: conductor)\n",
      "good:better::bad:? -> worse (expected: worse)\n",
      "big:bigger::small:? -> smaller (expected: smaller)\n",
      "dog:puppy::cat:? -> kitty (expected: kitty)\n"
     ]
    }
   ],
   "source": [
    "test_analogies = [\n",
    "    (\"king\", \"queen\", \"man\", \"woman\"),\n",
    "    (\"paris\", \"france\", \"berlin\", \"germany\"),\n",
    "    (\"car\", \"driver\", \"train\", \"conductor\"),\n",
    "    (\"good\", \"better\", \"bad\", \"worse\"),\n",
    "    (\"big\", \"bigger\", \"small\", \"smaller\"),\n",
    "    (\"dog\", \"puppy\", \"cat\", \"kitty\"),\n",
    "]\n",
    "\n",
    "\n",
    "analogy_results = []\n",
    "for a, b, c, expected in test_analogies:\n",
    "    result = solve_analogy(nlp_en, a, b, c)\n",
    "    analogy_results.append(result)\n",
    "    print(f\"{a}:{b}::{c}:? -> {result} (expected: {expected})\")\n",
    "\n",
    "save_results(analogy_results, 'solve_analogy.json')"
   ]
  },
  {
   "cell_type": "markdown",
   "id": "m3n4o5p6-report",
   "metadata": {},
   "source": [
    "**Report:**\n",
    "\n",
    "★ 3.1.1 Find three analogies in English that the model is able to solve correctly, and three analogies in English where the model gives a wrong answer."
   ]
  },
  {
   "cell_type": "code",
   "execution_count": 113,
   "id": "e517ae92",
   "metadata": {},
   "outputs": [
    {
     "name": "stdout",
     "output_type": "stream",
     "text": [
      "hot:cold::big:? -> huge (expected: small)\n",
      "egypt:africa::china:? -> india (expected: asia)\n",
      "child:parent::student:? -> faculty (expected: teacher)\n",
      "cool:coolest::big:? -> biggest (expected: biggest)\n",
      "wide:wider::tall:? -> taller (expected: taller)\n",
      "mother:father::grandmother:? -> grandfather (expected: grandfather)\n"
     ]
    }
   ],
   "source": [
    "test_analogies = [\n",
    "    (\"hot\", \"cold\", \"big\", \"small\"),\n",
    "    (\"egypt\", \"africa\", \"china\", \"asia\"),\n",
    "    (\"child\", \"parent\", \"student\", \"teacher\"),\n",
    "    (\"cool\", \"coolest\", \"big\", \"biggest\"),\n",
    "    (\"wide\", \"wider\", \"tall\", \"taller\"),\n",
    "    (\"mother\", \"father\", \"grandmother\", \"grandfather\"),\n",
    "\n",
    "]\n",
    "\n",
    "\n",
    "analogy_results = []\n",
    "for a, b, c, expected in test_analogies:\n",
    "    result = solve_analogy(nlp_en, a, b, c)\n",
    "    analogy_results.append(result)\n",
    "    print(f\"{a}:{b}::{c}:? -> {result} (expected: {expected})\")\n",
    "\n",
    "save_results(analogy_results, 'solve_analogy.json')"
   ]
  },
  {
   "cell_type": "markdown",
   "id": "226556e0",
   "metadata": {},
   "source": [
    "### 3.2 Embedding alignment (15 points)\n",
    "\n",
    "**Implement:** A function that identifies the transformation $W$ that best aligns two embedding spaces given a parallel corpus and a parallel word."
   ]
  },
  {
   "cell_type": "code",
   "execution_count": 21,
   "id": "8043f7ff",
   "metadata": {},
   "outputs": [],
   "source": [
    "from spacy.language import Language\n",
    "\n",
    "def learn_translation_matrix(\n",
    "    nlp_src: Language,\n",
    "    nlp_tgt: Language,\n",
    "    word_pairs: List[List[str]]\n",
    ") -> np.ndarray:\n",
    "    \"\"\"\n",
    "    Learns a linear transformation matrix W that maps source language vectors to target language vectors.\n",
    "    Input:\n",
    "        nlp_src: spaCy Language object for the source language.\n",
    "        nlp_tgt: spaCy Language object for the target language.\n",
    "        word_pairs: A list of [source_word, target_word] pairs.\n",
    "    Output:\n",
    "        W: A numpy array of shape (d, d) where d is the embedding dimension\n",
    "    \"\"\"\n",
    "\n",
    "    # 1. Create the training matrices X (Source) and Y (Target)\n",
    "    X_list = []\n",
    "    Y_list = []\n",
    "    for src_word, tgt_word in word_pairs:\n",
    "        if nlp_src.vocab[src_word].has_vector and nlp_tgt.vocab[tgt_word].has_vector:\n",
    "            # Normalize vectors to focus on direction\n",
    "            src_vector = nlp_src.vocab[src_word].vector\n",
    "            tgt_vector = nlp_tgt.vocab[tgt_word].vector\n",
    "            X_list.append(src_vector / np.linalg.norm(src_vector))\n",
    "            Y_list.append(tgt_vector / np.linalg.norm(tgt_vector))\n",
    "\n",
    "    X = np.array(X_list)\n",
    "    Y = np.array(Y_list)\n",
    "    \n",
    "    # 2. Learn the transformation matrix W where WX ≈ Y\n",
    "    # TODO: Implement this\n",
    "    # B, *_ = np.linalg.lstsq(X, Y, rcond=None)\n",
    "    # W = B.T\n",
    "    # return W\n",
    "    # M = X.T @ Y\n",
    "    M = Y.T @ X\n",
    "    U, _, V = np.linalg.svd(M, full_matrices=False)\n",
    "    W = U @ V\n",
    "    # W = V @ U.T\n",
    "    return W\n",
    "\n",
    "\n",
    "\n",
    "def translate_with_matrix(\n",
    "    nlp_src: Language, nlp_tgt: Language, W: np.ndarray, word: str\n",
    "):\n",
    "    \"\"\"\n",
    "    Translates a word from the source language to the target language using the learned matrix W.\n",
    "    Input:\n",
    "        nlp_src: spaCy Language object for the source language.\n",
    "        nlp_tgt: spaCy Language object for the target language.\n",
    "        W: The learned transformation matrix.\n",
    "        word: The source language word to translate.\n",
    "    Output:\n",
    "        predicted_word: The translated word in the target language.\n",
    "    \"\"\"\n",
    "    src_vec = nlp_src.vocab[word].vector\n",
    "    src_vec_norm = src_vec / np.linalg.norm(src_vec)\n",
    "\n",
    "    tgt_vec_pred = W @ src_vec_norm\n",
    "    tgt_vec_pred_norm = tgt_vec_pred / np.linalg.norm(tgt_vec_pred)\n",
    "\n",
    "    all_tgt_vectors = nlp_tgt.vocab.vectors.data\n",
    "    all_tgt_vectors_norm = all_tgt_vectors / np.linalg.norm(all_tgt_vectors, axis=1, keepdims=True)\n",
    "\n",
    "    similarities = np.dot(all_tgt_vectors_norm, tgt_vec_pred_norm)\n",
    "    best_match_index = np.argmax(similarities)\n",
    "\n",
    "    hash_value = list(nlp_tgt.vocab.vectors.keys())[best_match_index]\n",
    "    predicted_word = nlp_tgt.vocab.strings[hash_value]\n",
    "    return predicted_word\n",
    "\n"
   ]
  },
  {
   "cell_type": "markdown",
   "id": "6d2a94ca",
   "metadata": {},
   "source": [
    "#### 💾 Save your results for `learn_translation_matrix`"
   ]
  },
  {
   "cell_type": "code",
   "execution_count": 22,
   "id": "39197d53",
   "metadata": {},
   "outputs": [
    {
     "name": "stdout",
     "output_type": "stream",
     "text": [
      "Saved translation matrices.\n"
     ]
    }
   ],
   "source": [
    "en_ja = json.load(open('data/en-ja.json'))\n",
    "en_fr = json.load(open('data/en-fr.json'))\n",
    "\n",
    "W_en_fr = learn_translation_matrix(nlp_en, nlp_fr, en_fr)\n",
    "W_en_ja = learn_translation_matrix(nlp_en, nlp_ja, en_ja)\n",
    "\n",
    "# Save your matrices\n",
    "np.save('results/W_en_fr.npy', W_en_fr)\n",
    "np.save('results/W_en_ja.npy', W_en_ja)\n",
    "print(\"Saved translation matrices.\")"
   ]
  },
  {
   "cell_type": "markdown",
   "id": "47f16306",
   "metadata": {},
   "source": [
    "**Report:** Generate transformation matrices to translate between English<->Japanese and English<->French.\n",
    "\n",
    "★ 3.2.1 What happens when you translate each of these English words to Japanese/French, then back to English?\n",
    "\n",
    "1. penguin\n",
    "2. cheese\n",
    "3. sofa\n",
    "4. jacket\n",
    "5. website"
   ]
  },
  {
   "cell_type": "code",
   "execution_count": 23,
   "id": "39b83d1c",
   "metadata": {},
   "outputs": [
    {
     "name": "stdout",
     "output_type": "stream",
     "text": [
      "==== JAPANESE ====\n",
      "penguin -> 蛙 -> snakes\n",
      "cheese -> 美味しい -> delicious\n",
      "sofa -> ソファー -> sofa\n",
      "jacket -> 上着 -> jacket\n",
      "website -> ホームページ -> website\n",
      "==== FRENCH ====\n",
      "penguin -> tortue -> turtle\n",
      "cheese -> fromage -> cheese\n",
      "sofa -> canapé -> sofa\n",
      "jacket -> pantalon -> jacket\n",
      "website -> internet -> internet\n"
     ]
    }
   ],
   "source": [
    "en_words = [\n",
    "    \"penguin\",\n",
    "    \"cheese\",\n",
    "    \"sofa\",\n",
    "    \"jacket\",\n",
    "    \"website\"\n",
    "]\n",
    "\n",
    "# TODO: Use this space to translate the words above using your learned matrices.\n",
    "print(\"==== JAPANESE ====\")\n",
    "jp_words = [translate_with_matrix(nlp_en, nlp_ja, W_en_ja, word) for word in en_words]\n",
    "jp_to_en_words = [translate_with_matrix(nlp_ja, nlp_en, W_en_ja.T, word) for word in jp_words]\n",
    "for a, b, c in zip(en_words, jp_words, jp_to_en_words):\n",
    "    print(f\"{a} -> {b} -> {c}\")\n",
    "print(\"==== FRENCH ====\")\n",
    "fr_words = [translate_with_matrix(nlp_en, nlp_fr, W_en_fr, word) for word in en_words]\n",
    "fr_to_en_words = [translate_with_matrix(nlp_fr, nlp_en, W_en_fr.T, word) for word in fr_words]\n",
    "for a, b, c in zip(en_words, fr_words, fr_to_en_words):\n",
    "    print(f\"{a} -> {b} -> {c}\")\n"
   ]
  },
  {
   "cell_type": "markdown",
   "id": "q7r8s9t0-part4",
   "metadata": {},
   "source": [
    "## Part 4: Computational linguistics (25 points)\n",
    "\n",
    "In this part, you will use `spaCy` to perform linguistic analysis on our corpus. \n",
    "\n",
    "Use the English model from spaCy `nlp_en` to:\n",
    "\n",
    "(a) tokenize\n",
    "(b) lemmatize\n",
    "(c) get dependency trees \n",
    "\n",
    "the first 1000 sentences in our corpus `en_corpus`."
   ]
  },
  {
   "cell_type": "markdown",
   "id": "y5z6a1b2-report",
   "metadata": {},
   "source": [
    "**Report:**\n",
    "\n",
    "A *lemma* is the canonical or dictionary form of a word, representing the base from which all its inflected forms are derived. In NLP, the process of lemmatization groups these various forms (e.g., ran, runs, running) under their single shared lemma (run) to normalize text and simplify analysis.\n",
    "\n",
    "★ 4.1.1 Report the 10 most frequent verb lemmas in the corpus.\n",
    "\n",
    "★ 4.1.2 For the top 5 most frequent verb lemmas, show the distribution of their subject lemmas (i.e. by navigating the dependency tree from the root to find the `nsubj` item).\n",
    "\n",
    "★ 4.1.3 Based on your findings, do you observe any relationship between the types of verbs and the types of subjects they take (e.g., are certain verbs more likely to have animate subjects like 'man' or 'I', versus inanimate subjects like 'door' or 'it')? Discuss one interesting example."
   ]
  },
  {
   "cell_type": "code",
   "execution_count": null,
   "id": "u1v2w3x4-spacy",
   "metadata": {},
   "outputs": [],
   "source": [
    "en_corpus_mini = en_corpus[:1000]\n",
    "\n",
    "# TODO: Use spaCy to answer the following questions.\n"
   ]
  },
  {
   "cell_type": "markdown",
   "id": "c3d4e5f6-bonus",
   "metadata": {},
   "source": [
    "## Part 5: Bonus: Language puzzles (10 points)\n",
    "\n",
    "The following sentences are from a perturbed version of a real language, presented alongside their translations into English. Your task is to match each phrase in **Language Y** with its correct **English** translation."
   ]
  },
  {
   "cell_type": "markdown",
   "id": "g7h8i9j0-puzzle",
   "metadata": {},
   "source": [
    "|   | Language Y                     |   | English                  |\n",
    "|---|--------------------------------|---|--------------------------|\n",
    "| A | he shege ptauege yaijeech      | 1 | the cousin's teacher     |\n",
    "| B | heau shege yaijeege stauyau    | 2 | the nurses' cousin       |\n",
    "| C | heau shai ugheedai hyoogeshyau | 3 | the architects' teachers |\n",
    "| D | heau shege eegeege oogheedyau  | 4 | the schools' architect   |\n",
    "| E | he shai stauai eegeech         | 5 | the teachers' schools    |\n",
    "| F | he shai yausai stauich         | 6 | the managers' tools      |\n",
    "| G | he shege hyoogesheege yauseech | 7 | the manager's nurses     |\n",
    "| H | heau shege staueege ptauyau    | 8 | the professor's tool     |\n",
    "\n",
    "**Your Answer:**\n",
    "\n",
    "★ Provide your final matching (e.g., A-1, B-2, C-3, ...). Briefly explain the logic you used to decipher the language, including how possession (e.g., 's) and plurals are marked."
   ]
  },
  {
   "cell_type": "markdown",
   "id": "k1l2m3n4-integrity",
   "metadata": {},
   "source": [
    "## Academic integrity\n",
    "\n",
    "You can discuss high-level solutions with classmates, but your submitted work should be your own. Don't copy from or share code with one another. Provide attribution for any sources of assistance you used in the assignment. If you use generative AI tools to aid in any parts of this assignment, describe how you used them and what worked (or didn't work) when using them."
   ]
  },
  {
   "cell_type": "markdown",
   "id": "68e76859",
   "metadata": {},
   "source": []
  }
 ],
 "metadata": {
  "kernelspec": {
   "display_name": "ugrad-nlp",
   "language": "python",
   "name": "python3"
  },
  "language_info": {
   "codemirror_mode": {
    "name": "ipython",
    "version": 3
   },
   "file_extension": ".py",
   "mimetype": "text/x-python",
   "name": "python",
   "nbconvert_exporter": "python",
   "pygments_lexer": "ipython3",
   "version": "3.10.18"
  }
 },
 "nbformat": 4,
 "nbformat_minor": 5
}
