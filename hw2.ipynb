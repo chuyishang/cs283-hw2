{
 "cells": [
  {
   "cell_type": "markdown",
   "id": "e3a8b4f1",
   "metadata": {},
   "source": [
    "# Assignment 2: Tokenization, Word Embeddings, and Vector Algebra\n",
    "\n",
    "## Introduction\n",
    "In this assignment, we will explore the problem of getting from sequences of characters to wordtypes with different meanings. You will implement widely-used algorithms for tokenizing text and computing context-less word embeddings, and perform analysis on the results of running these algorithms.\n",
    "\n",
    "Learning objectives:\n",
    "* Understand how byte pair encoding works as a method for tokenizing character sequences, and how it differs from simpler tokenization methods like splitting on whitespace.\n",
    "* Gain insights on how to compute and interpret language statistics, including Zipf's laws of word frequencies.\n",
    "* Understand basics of distributional semantics, including basic implementations of word embedding algorithms.\n",
    "* Learn to use vector algebra as a way of analyzing a space of word embeddings.\n",
    "\n",
    "**Notes:**\n",
    "* In your solution, keep all code as-is except where it's explicitly mentioned to implement a function.\n",
    "* Items marked with a star (★) should be answered in a separate report as a text document with the corresponding item number. You will include your final report as a pdf with your submission.\n",
    "\n",
    "**Submission:**\n",
    "\n",
    "You will submit a single zip file `submission.zip` to Gradescope containing the following:\n",
    "\n",
    "```\n",
    "hw2.ipynb # your completed jupyter notebook\n",
    "report.pdf # your written report\n",
    "results/ # outputs from jupyter notebook\n",
    "├── solve_analogy.json\n",
    "├── W_en_fr.npy\n",
    "├── W_en_ja.npy\n",
    "└── ... (and all other generated files)\n",
    "```"
   ]
  },
  {
   "cell_type": "markdown",
   "id": "setup-cell-markdown",
   "metadata": {},
   "source": [
    "# Setup\n",
    "\n",
    "Run the following cell to set up the helper function for saving your results. This function will create a directory called `results` and save the output of each of your implemented functions as a `.json` file inside."
   ]
  },
  {
   "cell_type": "code",
   "execution_count": null,
   "id": "setup-cell-code",
   "metadata": {},
   "outputs": [],
   "source": [
    "import json\n",
    "import os\n",
    "from collections import Counter, defaultdict\n",
    "from typing import List, Dict, Tuple\n",
    "import matplotlib.pyplot as plt\n",
    "import numpy as np\n",
    "import random\n",
    "\n",
    "import torch\n",
    "import torch.nn as nn\n",
    "import torch.optim as optim\n",
    "from torch.utils.data import Dataset, DataLoader\n",
    "\n",
    "from tokenizers import ByteLevelBPETokenizer\n",
    "from tokenizers.normalizers import Lowercase\n",
    "\n",
    "# Set random seeds for reproducibility\n",
    "random.seed(42)\n",
    "np.random.seed(42)\n",
    "torch.manual_seed(42)\n",
    "\n",
    "def save_results(results, filename):\n",
    "    if not os.path.exists('results'):\n",
    "        os.makedirs('results')\n",
    "    with open(os.path.join('results', filename), \"w\") as f:\n",
    "        json.dump(results, f, indent=4)\n",
    "\n",
    "# Load the corpus\n",
    "with open('data/stories.txt', 'r', encoding='utf-8') as f:\n",
    "    en_corpus = [line.strip() for line in f.readlines()]\n",
    "\n",
    "print(f\"Loaded {len(en_corpus)} sentences.\")\n",
    "print(\"First 5 sentences:\", en_corpus[:5])"
   ]
  },
  {
   "cell_type": "markdown",
   "id": "a9b2c1d0",
   "metadata": {},
   "source": [
    "## Part 1: Tokenization (25 points)\n",
    "\n",
    "In this part, you will implement two standard methods for tokenization to convert a sequence of characters into a sequence of tokens."
   ]
  },
  {
   "cell_type": "markdown",
   "id": "f8d7e6c5",
   "metadata": {},
   "source": [
    "### Part 1.0: Setup\n",
    "**Implement:** A helper function that, given a sequence of tokenized sentences, returns a dictionary pairing word types with their counts."
   ]
  },
  {
   "cell_type": "code",
   "execution_count": null,
   "id": "cc4aef4e",
   "metadata": {},
   "outputs": [],
   "source": [
    "def count_word_types(tokenized_sentences: List[List[str]]) -> Dict[str, int]:\n",
    "    \"\"\"\n",
    "    Given a list of tokenized sentences, return a dictionary mapping each word type to its frequency.\n",
    "    \"\"\"\n",
    "    # TODO: Implement this function\n",
    "    pass\n",
    "\n",
    "word_counts_output = count_word_types(en_corpus)"
   ]
  },
  {
   "cell_type": "markdown",
   "id": "g7h8i9j0",
   "metadata": {},
   "source": [
    "### Part 1.1: Simple tokenization (10 points)\n",
    "**Implement:** A function that splits a given input string by whitespace into sequences of tokens."
   ]
  },
  {
   "cell_type": "code",
   "execution_count": null,
   "id": "k1l2m3n4",
   "metadata": {},
   "outputs": [],
   "source": [
    "def simple_tokenize(text: str) -> List[str]:\n",
    "    \"\"\"\n",
    "    Splits a given input string by whitespace into a sequence of tokens.\n",
    "    \"\"\"\n",
    "    # TODO: Implement this function\n",
    "    pass"
   ]
  },
  {
   "cell_type": "markdown",
   "id": "o5p6q7r8",
   "metadata": {},
   "source": [
    "**Report:**\n",
    "\n",
    "★ 1.1.1 Use the helper function to create a frequency dictionary for the sentences in `en_corpus`. What are the 10 most frequent wordtypes?\n",
    "\n",
    "★ 1.1.2 What are two limitations you observe in this simple tokenization method? Include examples that motivate these limitations."
   ]
  },
  {
   "cell_type": "markdown",
   "id": "s9t0u1v2",
   "metadata": {},
   "source": [
    "### Part 1.2: Byte pair encoding (15 points)\n",
    "**Implement:** The Byte Pair Encoding (BPE) algorithm by completing the methods in the class below.\n",
    "\n",
    "You'll need a few components:\n",
    "1. A function to get pair frequencies from the vocabulary.\n",
    "2. A function to merge a given pair in the vocabulary.\n",
    "3. A main training function that iteratively finds the best pair and merges it.\n",
    "4. A tokenizer function that applies the learned merges to new text."
   ]
  },
  {
   "cell_type": "code",
   "execution_count": null,
   "id": "fe5fe632",
   "metadata": {},
   "outputs": [],
   "source": [
    "class BPE():\n",
    "    \"\"\"Byte Pair Encoding (BPE) tokenizer.\"\"\"\n",
    "    \n",
    "    def __init__(self):\n",
    "        self.merges = {}\n",
    "        self.vocab = {}\n",
    "\n",
    "    def get_stats(self, word_freqs):\n",
    "        \"\"\"Counts the frequency of pairs in the vocabulary.\"\"\"\n",
    "        # TODO: Implement this function\n",
    "\n",
    "        pass\n",
    "\n",
    "    def merge(self, pair, word_freqs):\n",
    "        \"\"\"Merges a pair of symbols into a new symbol in the vocabulary.\"\"\"\n",
    "        # TODO: Implement this function\n",
    "\n",
    "        pass\n",
    "\n",
    "    def train(self, corpus: list[str], vocab_size: int):\n",
    "        \"\"\"Trains the tokenizer on a given corpus.\"\"\"\n",
    "\n",
    "        # 1. Initialize vocabulary and pre-tokenize the corpus\n",
    "        initial_vocab = set()\n",
    "        word_freqs = defaultdict(int)\n",
    "        \n",
    "        # Prepare the initial word frequency map\n",
    "        for text in corpus:\n",
    "            words = text.strip().split()\n",
    "            for word in words:\n",
    "                processed_word = ' '.join(list(word))\n",
    "                word_freqs[processed_word] += 1\n",
    "                initial_vocab.update(list(word))\n",
    "\n",
    "        # The initial vocabulary includes all single characters\n",
    "        self.vocab = {i: char for i, char in enumerate(sorted(list(initial_vocab)))}\n",
    "\n",
    "        # 2. Iteratively merge the most frequent pair\n",
    "        # TODO: Implement this function\n",
    "        \n",
    "        pass\n",
    "\n",
    "    def tokenize(self, text: str) -> list[str]:\n",
    "        \"\"\"Tokenizes a new sentence using the learned merge rules.\"\"\"\n",
    "        # TODO: Implement this function\n",
    "\n",
    "        pass\n",
    "\n",
    "    def decode(self, tokens: list[str]) -> str:\n",
    "        \"\"\"Decodes a sequence of tokens back into a string.\"\"\"\n",
    "        # TODO: Implement this function\n",
    "        pass"
   ]
  },
  {
   "cell_type": "markdown",
   "id": "142cb6c0",
   "metadata": {},
   "source": [
    "#### 💾 Save your results for `BPE`"
   ]
  },
  {
   "cell_type": "code",
   "execution_count": null,
   "id": "1f178240",
   "metadata": {},
   "outputs": [],
   "source": [
    "bpe_tokenizer = BPE()\n",
    "bpe_tokenizer.train(en_corpus, vocab_size=500)\n",
    "\n",
    "# Save the learned merges and vocabulary\n",
    "save_results({str(k): v for k, v in bpe_tokenizer.merges.items()}, 'bpe_merges.json')\n",
    "save_results(bpe_tokenizer.vocab, 'bpe_vocab.json')\n",
    "print(\"Saved results for BPE merges and vocabulary.\")"
   ]
  },
  {
   "cell_type": "markdown",
   "id": "a1b2c3d4",
   "metadata": {},
   "source": [
    "**Report:**\n",
    "\n",
    "★ 1.2.1 What are the 10 most frequent wordtypes from your BPE tokenizer?\n",
    "\n",
    "★ 1.2.2 Generate a plot showing the Zipfian distribution of wordtypes (i.e., a log-log plot of frequency vs. rank). Compare the distributions from simple whitespace tokenization and BPE. Include the plots and your comparison in the report, make sure your plot is clearly labeled.\n",
    "\n",
    "★ 1.2.3 Why might these distributions look different from one another?"
   ]
  },
  {
   "cell_type": "code",
   "execution_count": null,
   "id": "e5f6g7h8",
   "metadata": {},
   "outputs": [],
   "source": [
    "# TODO: Use this space to generate your Zipfian plot.\n"
   ]
  },
  {
   "cell_type": "markdown",
   "id": "i9j0k1l2",
   "metadata": {},
   "source": [
    "## Part 2: Word embeddings (25 points)\n",
    "\n",
    "In this part, you will implement the Skip-Gram model to compute word embeddings for the words in your corpus."
   ]
  },
  {
   "cell_type": "markdown",
   "id": "cee44fd8",
   "metadata": {},
   "source": [
    "### Part 2.0: Setup\n",
    "For the remainder of the assignment, we will use `ByteLevelBPETokenizer` from the `tokenizers` library. "
   ]
  },
  {
   "cell_type": "code",
   "execution_count": null,
   "id": "c4aee916",
   "metadata": {},
   "outputs": [],
   "source": [
    "def get_tokenizer(data_path: str, vocab_size=10000):\n",
    "    tokenizer = ByteLevelBPETokenizer()\n",
    "    tokenizer.normalizer = Lowercase()\n",
    "\n",
    "    tokenizer.train(files=data_path, vocab_size=vocab_size, min_frequency=2)\n",
    "\n",
    "    return tokenizer\n",
    "\n",
    "en_tokenizer = get_tokenizer(\"data/stories.txt\")\n",
    "en_tokenized = [en_tokenizer.encode(s).ids for s in en_corpus]"
   ]
  },
  {
   "cell_type": "markdown",
   "id": "u1v2w3x4",
   "metadata": {},
   "source": [
    "### Part 2.1: Experiment with different contexts (5 points)\n",
    "\n",
    "First, let's explore different implementations of context for the Skip-Gram model.\n",
    "\n",
    "**Implement:** Two functions that map from tokenized sentences and words to contexts:\n",
    "\n",
    "##### a)  **Bag-of-Words Context** \n",
    "The first function should, for each target token $w$, create a positive example $(w, c)$ for every additional token $c$ in the sentence. \n",
    "\n",
    "I.e., for a sentence $\\langle x_1, \\dots, x_m \\rangle$ of length $m$ tokens, we should create $m \\cdot (m - 1)$ positive examples: $\\bigcup_{1 \\leq i \\leq m} \\bigcup_{1 \\leq j \\leq m, i \\neq j} \\left\\{ (x_i, x_j) \\right\\}$.\n",
    "   \n",
    "##### b)  **Neighboring Tokens Context** \n",
    "\n",
    "The second function should, for each target token $w$, create a positive example $(w, c)$ for each of the tokens within a window of up to size $N$ before and after the target token's index. \n",
    "\n",
    "I.e., for a sentence $\\langle x_1, \\dots, x_m \\rangle$ of length $m$ tokens, we should create $m \\cdot 2N$ positive examples: $\\bigcup_{1 \\leq i \\leq m}\\bigcup_{1 \\leq j \\leq N}\\{ (x_i, (-j, x_{i-j})), (x_i, (j, x_{i + j}) )\\}$. \n",
    "\n",
    "Here, contexts are  not just individual wordtypes, but the wordtypes are paired with some positive or negative distance away from the target token. For cases where the window is out of bounds of the sentence (i.e., $i - j < 1$ or $i + j > m$), you can create a special wordtype (e.g., \\<BOS\\> or \\<EOS\\>)."
   ]
  },
  {
   "cell_type": "code",
   "execution_count": null,
   "id": "y5z6a1b2",
   "metadata": {},
   "outputs": [],
   "source": [
    "def get_bow_context(tokenized_sentences: List[List[str]]) -> List[Tuple[str, str]]:\n",
    "    \"\"\"\n",
    "    Creates positive (target, context) examples where context is any other word in the sentence.\n",
    "    \"\"\"\n",
    "    # TODO: Implement this function\n",
    "    pass\n",
    "\n",
    "def get_neighbor_context(tokenized_sentences: List[List[int]], window_size: int) -> List[Tuple[int, int]]:\n",
    "    \"\"\"\n",
    "    Creates positive (target, context) examples from tokens within a given window size.\n",
    "    \"\"\"\n",
    "    # TODO: Implement this function\n",
    "    pass"
   ]
  },
  {
   "cell_type": "markdown",
   "id": "24d617db",
   "metadata": {},
   "source": [
    "#### 💾 Save your results for `get_neighbor_context`"
   ]
  },
  {
   "cell_type": "code",
   "execution_count": null,
   "id": "22017200",
   "metadata": {},
   "outputs": [],
   "source": [
    "neighbor_pairs = get_neighbor_context(en_tokenized, window_size=2)\n",
    "save_results(neighbor_pairs[:10000], 'neighbor_context.json')\n",
    "print(\"Saved results for get_neighbor_context.\")"
   ]
  },
  {
   "cell_type": "markdown",
   "id": "c3d4e5f6",
   "metadata": {},
   "source": [
    "### Part 2.3: Negative sampling (5 points)\n",
    "To train the Skip-Gram model efficiently, we use negative sampling. First, we model the probability distribution over contexts.\n",
    "\n",
    "**Implement:** A function that computes a distribution over the contexts $\\mathcal{C}$ given a dataset of word-context pairs $\\mathcal{D}$."
   ]
  },
  {
   "cell_type": "code",
   "execution_count": null,
   "id": "2ba7efe7",
   "metadata": {},
   "outputs": [],
   "source": [
    "def get_context_distribution(pairs: List[Tuple[int, int]], vocab_size: int) -> List[float]:\n",
    "    \"\"\"\n",
    "    Computes the probability distribution over contexts P(c).\n",
    "\n",
    "    Args:\n",
    "        pairs: A list of (token, context) pairs.\n",
    "        vocab_size: The size of the vocabulary.\n",
    "\n",
    "    Returns:\n",
    "        A list of probabilities for each context token, ordered by token index.\n",
    "    \"\"\"\n",
    "    # TODO: Implement this function\n",
    "\n",
    "    pass\n"
   ]
  },
  {
   "cell_type": "markdown",
   "id": "8c831a9b",
   "metadata": {},
   "source": [
    "**Implement:** A function for sampling negative pairs of tokens and contexts given the prior over contexts $\\mathcal{C}$."
   ]
  },
  {
   "cell_type": "code",
   "execution_count": null,
   "id": "2c23ed94",
   "metadata": {},
   "outputs": [],
   "source": [
    "\n",
    "def sample_negative_contexts(context_distribution: torch.Tensor, num_samples: int, batch_size=1) -> torch.Tensor:\n",
    "    \"\"\"\n",
    "    Samples negative contexts based on the context distribution.\n",
    "    \"\"\"\n",
    "    # TODO: Implement this function\n",
    "\n",
    "    pass"
   ]
  },
  {
   "cell_type": "markdown",
   "id": "k1l2m3n4-report",
   "metadata": {},
   "source": [
    "**Report:**\n",
    "\n",
    "★ 2.3.1 For each of the following context settings, list the highest-probability *negative* sample according to the priors you computed:\n",
    "- Context as a bag of words.\n",
    "- Context as neighboring tokens, $N=1$.\n",
    "- Context as neighboring tokens, $N=2$."
   ]
  },
  {
   "cell_type": "markdown",
   "id": "o5p6q7r8-analysis",
   "metadata": {},
   "source": [
    "### Part 2.4: Train the Skip-Gram model and analyze embeddings (15 points)\n",
    "\n",
    "Now, we'll define our Skip-Gram model and train it on our corpus.\n",
    "\n",
    "**Implement:** A Skip-Gram model in PyTorch. The model should consist of two embedding layers: one for the target words and one for the context words."
   ]
  },
  {
   "cell_type": "code",
   "execution_count": null,
   "id": "8347e4c5",
   "metadata": {},
   "outputs": [],
   "source": [
    "class SkipGramModel(nn.Module):\n",
    "    def __init__(self, vocab_size: int, embedding_dim: int):\n",
    "        super(SkipGramModel, self).__init__()\n",
    "        # TODO: Implement the model layers\n",
    "        pass\n",
    "\n",
    "    def forward(self, target, context):\n",
    "        # TODO: Implement the forward pass\n",
    "        pass"
   ]
  },
  {
   "cell_type": "markdown",
   "id": "f6e485f4",
   "metadata": {},
   "source": [
    "**Implement:** Train your Skip-Gram model using the tokenized data `en_tokenized`. You may want to implement batching to speed things up.\n"
   ]
  },
  {
   "cell_type": "code",
   "execution_count": null,
   "id": "111f91b9",
   "metadata": {},
   "outputs": [],
   "source": [
    "\n",
    "class SkipGramDataset(Dataset):\n",
    "    def __init__(self, pairs: List[Tuple[int, int]]):\n",
    "        self.pairs = pairs\n",
    "        \n",
    "    def __len__(self):\n",
    "        return len(self.pairs)\n",
    "\n",
    "    def __getitem__(self, idx):\n",
    "        return self.pairs[idx]\n",
    "\n",
    "def train_skipgram(corpus, tokenizer, num_epochs=30):\n",
    "\n",
    "    # Initialize the model, loss function, optimizer, and dataloader\n",
    "\n",
    "    embedding_dim = 128\n",
    "    vocab_size = len(tokenizer.get_vocab())\n",
    "    model = SkipGramModel(vocab_size, embedding_dim)\n",
    "    criterion = nn.BCEWithLogitsLoss()\n",
    "    optimizer = optim.Adam(model.parameters(), lr=0.01)\n",
    "    batch_size = 2**16\n",
    "\n",
    "    neighbor_pairs = get_neighbor_context([tokenizer.encode(s).ids for s in corpus], window_size=5)\n",
    "    dataset = SkipGramDataset(neighbor_pairs)\n",
    "    dataloader = DataLoader(\n",
    "        dataset,\n",
    "        batch_size=batch_size,\n",
    "        shuffle=True,\n",
    "    )    \n",
    "\n",
    "    # Training loop\n",
    "    # TODO: Implement this. \n",
    "    # You will need to combine positive and negative samples in the loss computation, and adjust the labels accordingly.\n",
    "\n",
    "    return model"
   ]
  },
  {
   "cell_type": "markdown",
   "id": "855500d3",
   "metadata": {},
   "source": [
    "#### 💾 Save your model outputs"
   ]
  },
  {
   "cell_type": "code",
   "execution_count": null,
   "id": "s9t0u1v2-train",
   "metadata": {
    "collapsed": true,
    "jupyter": {
     "outputs_hidden": true
    }
   },
   "outputs": [],
   "source": [
    "model = train_skipgram(en_corpus, en_tokenizer, num_epochs=30)\n",
    "\n",
    "test_center_word = torch.tensor(np.load('data/center_word.npy')).to(device)\n",
    "test_context_words = torch.tensor(np.load('data/context_words.npy')).to(device)\n",
    "\n",
    "test_scores = model(test_center_word, test_context_words)\n",
    "np.save('results/skipgram_scores.npy', test_scores.cpu().detach().numpy())"
   ]
  },
  {
   "cell_type": "markdown",
   "id": "0130d444",
   "metadata": {},
   "source": [
    "**Implement:** A function that, given a trained Skip-Gram model and a target wordtype, returns the cosine similarity of that wordtype's embedding with the embedding of every other wordtype in the vocabulary."
   ]
  },
  {
   "cell_type": "code",
   "execution_count": null,
   "id": "b802b391",
   "metadata": {},
   "outputs": [],
   "source": [
    "def get_cosine_similarity(model: SkipGramModel, tokenizer: ByteLevelBPETokenizer, target_word: str) -> List[Tuple[str, float]]:\n",
    "    \"\"\"\n",
    "    Given a trained model and a target word, returns a list of (word, similarity_score) \n",
    "    for all words in the vocabulary (excluding the target word), sorted by similarity score.\n",
    "    \"\"\"\n",
    "    # TODO: Implement this function\n",
    "    pass"
   ]
  },
  {
   "cell_type": "markdown",
   "id": "fc40e850",
   "metadata": {},
   "source": [
    "**Report:**\n",
    "\n",
    "★ 2.4.1 Use `get_cosine_similarity` to explore similar wordtypes for different English words. Give three examples of pairs of similar wordtypes that make sense, and three that don't. What are possible reasons for a high similarity score between two seemingly unrelated words?"
   ]
  },
  {
   "cell_type": "markdown",
   "id": "a1b2c3d4-part3",
   "metadata": {},
   "source": [
    "## Part 3: Vector algebra (25 points)\n",
    "\n",
    "For the remainder of this homework, you will use a modern NLP library `spaCy`. You can find its documentation [here](https://spacy.io/usage/spacy-101).\n",
    "\n",
    "Install spaCy and its English, French, Japanese models with\n",
    "```\n",
    "pip install spacy\n",
    "python -m spacy download en_core_web_md\n",
    "python -m spacy download fr_core_news_md\n",
    "python -m spacy download ja_core_news_md\n",
    "```\n"
   ]
  },
  {
   "cell_type": "markdown",
   "id": "f89d948c",
   "metadata": {},
   "source": [
    "### Part 3.0: Setup"
   ]
  },
  {
   "cell_type": "code",
   "execution_count": null,
   "id": "5a6a5ba0",
   "metadata": {},
   "outputs": [],
   "source": [
    "import spacy\n",
    "\n",
    "nlp_en = spacy.load(\"en_core_web_md\")\n",
    "nlp_fr = spacy.load(\"fr_core_news_md\")\n",
    "nlp_ja = spacy.load(\"ja_core_news_md\")"
   ]
  },
  {
   "cell_type": "markdown",
   "id": "e5f6g7h8-analogy",
   "metadata": {},
   "source": [
    "### Part 3.1: Word analogy (10 points)\n",
    "\n",
    "**Implement:** A function that, given two wordtypes representing a target analogy (e.g., *cat* and *kitten*) and an input wordtype to evaluate in that analogy (e.g., *dog*), returns the wordtype that (according to the learned embeddings) best fits as the analogy. Recall the formula for finding this in the slides."
   ]
  },
  {
   "cell_type": "code",
   "execution_count": null,
   "id": "i9j0k1l2-analogy",
   "metadata": {},
   "outputs": [],
   "source": [
    "def solve_analogy(model, a: str, b: str, c: str, n=5) -> str:\n",
    "    \"\"\"\n",
    "    Solves the analogy 'a is to b as c is to ?'.\n",
    "    Returns the word from the vocabulary whose embedding is closest to vec(b) - vec(a) + vec(c).\n",
    "    \"\"\"\n",
    "    # TODO: Implement this function\n",
    "\n",
    "    pass"
   ]
  },
  {
   "cell_type": "markdown",
   "id": "4c4f32a1",
   "metadata": {},
   "source": [
    "#### 💾 Save your results for `solve_analogy`"
   ]
  },
  {
   "cell_type": "code",
   "execution_count": null,
   "id": "996dd4d6",
   "metadata": {},
   "outputs": [],
   "source": [
    "test_analogies = [\n",
    "    (\"king\", \"queen\", \"man\", \"woman\"),\n",
    "    (\"paris\", \"france\", \"berlin\", \"germany\"),\n",
    "    (\"car\", \"driver\", \"train\", \"conductor\"),\n",
    "    (\"good\", \"better\", \"bad\", \"worse\"),\n",
    "    (\"big\", \"bigger\", \"small\", \"smaller\"),\n",
    "    (\"dog\", \"puppy\", \"cat\", \"kitty\"),\n",
    "]\n",
    "\n",
    "\n",
    "analogy_results = []\n",
    "for a, b, c, expected in test_analogies:\n",
    "    result = solve_analogy(nlp_en, a, b, c)\n",
    "    analogy_results.append(result)\n",
    "    print(f\"{a}:{b}::{c}:? -> {result} (expected: {expected})\")\n",
    "\n",
    "save_results(analogy_results, 'solve_analogy.json')"
   ]
  },
  {
   "cell_type": "markdown",
   "id": "m3n4o5p6-report",
   "metadata": {},
   "source": [
    "**Report:**\n",
    "\n",
    "★ 3.1.1 Find three analogies in English that the model is able to solve correctly, and three analogies in English where the model gives a wrong answer."
   ]
  },
  {
   "cell_type": "markdown",
   "id": "226556e0",
   "metadata": {},
   "source": [
    "### 3.2 Embedding alignment (15 points)\n",
    "\n",
    "**Implement:** A function that identifies the transformation $W$ that best aligns two embedding spaces given a parallel corpus and a parallel word."
   ]
  },
  {
   "cell_type": "code",
   "execution_count": null,
   "id": "8043f7ff",
   "metadata": {},
   "outputs": [],
   "source": [
    "from spacy.language import Language\n",
    "\n",
    "def learn_translation_matrix(\n",
    "    nlp_src: Language,\n",
    "    nlp_tgt: Language,\n",
    "    word_pairs: List[List[str]]\n",
    ") -> np.ndarray:\n",
    "    \"\"\"\n",
    "    Learns a linear transformation matrix W that maps source language vectors to target language vectors.\n",
    "    Input:\n",
    "        nlp_src: spaCy Language object for the source language.\n",
    "        nlp_tgt: spaCy Language object for the target language.\n",
    "        word_pairs: A list of [source_word, target_word] pairs.\n",
    "    Output:\n",
    "        W: A numpy array of shape (d, d) where d is the embedding dimension\n",
    "    \"\"\"\n",
    "\n",
    "    # 1. Create the training matrices X (Source) and Y (Target)\n",
    "    X_list = []\n",
    "    Y_list = []\n",
    "    for src_word, tgt_word in word_pairs:\n",
    "        if nlp_src.vocab[src_word].has_vector and nlp_tgt.vocab[tgt_word].has_vector:\n",
    "            # Normalize vectors to focus on direction\n",
    "            src_vector = nlp_src.vocab[src_word].vector\n",
    "            tgt_vector = nlp_tgt.vocab[tgt_word].vector\n",
    "            X_list.append(src_vector / np.linalg.norm(src_vector))\n",
    "            Y_list.append(tgt_vector / np.linalg.norm(tgt_vector))\n",
    "\n",
    "    X = np.array(X_list)\n",
    "    Y = np.array(Y_list)\n",
    "    \n",
    "    # 2. Learn the transformation matrix W where WX ≈ Y\n",
    "    # TODO: Implement this\n",
    "    pass\n",
    "\n",
    "def translate_with_matrix(\n",
    "    nlp_src: Language, nlp_tgt: Language, W: np.ndarray, word: str\n",
    "):\n",
    "    \"\"\"\n",
    "    Translates a word from the source language to the target language using the learned matrix W.\n",
    "    Input:\n",
    "        nlp_src: spaCy Language object for the source language.\n",
    "        nlp_tgt: spaCy Language object for the target language.\n",
    "        W: The learned transformation matrix.\n",
    "        word: The source language word to translate.\n",
    "    Output:\n",
    "        predicted_word: The translated word in the target language.\n",
    "    \"\"\"\n",
    "    src_vec = nlp_src.vocab[word].vector\n",
    "    src_vec_norm = src_vec / np.linalg.norm(src_vec)\n",
    "\n",
    "    tgt_vec_pred = W @ src_vec_norm\n",
    "    tgt_vec_pred_norm = tgt_vec_pred / np.linalg.norm(tgt_vec_pred)\n",
    "\n",
    "    all_tgt_vectors = nlp_tgt.vocab.vectors.data\n",
    "    all_tgt_vectors_norm = all_tgt_vectors / np.linalg.norm(all_tgt_vectors, axis=1, keepdims=True)\n",
    "\n",
    "    similarities = np.dot(all_tgt_vectors_norm, tgt_vec_pred_norm)\n",
    "    best_match_index = np.argmax(similarities)\n",
    "\n",
    "    hash_value = list(nlp_tgt.vocab.vectors.keys())[best_match_index]\n",
    "    predicted_word = nlp_tgt.vocab.strings[hash_value]\n",
    "    return predicted_word\n",
    "\n"
   ]
  },
  {
   "cell_type": "markdown",
   "id": "6d2a94ca",
   "metadata": {},
   "source": [
    "#### 💾 Save your results for `learn_translation_matrix`"
   ]
  },
  {
   "cell_type": "code",
   "execution_count": null,
   "id": "39197d53",
   "metadata": {},
   "outputs": [],
   "source": [
    "en_ja = json.load(open('data/en-ja.json'))\n",
    "en_fr = json.load(open('data/en-fr.json'))\n",
    "\n",
    "W_en_fr = learn_translation_matrix(nlp_en, nlp_fr, en_fr)\n",
    "W_en_ja = learn_translation_matrix(nlp_en, nlp_ja, en_ja)\n",
    "\n",
    "# Save your matrices\n",
    "np.save('results/W_en_fr.npy', W_en_fr)\n",
    "np.save('results/W_en_ja.npy', W_en_ja)\n",
    "print(\"Saved translation matrices.\")"
   ]
  },
  {
   "cell_type": "markdown",
   "id": "47f16306",
   "metadata": {},
   "source": [
    "**Report:** Generate transformation matrices to translate between English<->Japanese and English<->French.\n",
    "\n",
    "★ 3.2.1 What happens when you translate each of these English words to Japanese/French, then back to English?\n",
    "\n",
    "1. penguin\n",
    "2. cheese\n",
    "3. sofa\n",
    "4. jacket\n",
    "5. website"
   ]
  },
  {
   "cell_type": "code",
   "execution_count": null,
   "id": "39b83d1c",
   "metadata": {},
   "outputs": [],
   "source": [
    "en_words = [\n",
    "    \"penguin\",\n",
    "    \"cheese\",\n",
    "    \"sofa\",\n",
    "    \"jacket\",\n",
    "    \"website\"\n",
    "]\n",
    "\n",
    "# TODO: Use this space to translate the words above using your learned matrices."
   ]
  },
  {
   "cell_type": "markdown",
   "id": "q7r8s9t0-part4",
   "metadata": {},
   "source": [
    "## Part 4: Computational linguistics (25 points)\n",
    "\n",
    "In this part, you will use `spaCy` to perform linguistic analysis on our corpus. \n",
    "\n",
    "Use the English model from spaCy `nlp_en` to:\n",
    "\n",
    "(a) tokenize\n",
    "(b) lemmatize\n",
    "(c) get dependency trees \n",
    "\n",
    "the first 1000 sentences in our corpus `en_corpus`."
   ]
  },
  {
   "cell_type": "markdown",
   "id": "y5z6a1b2-report",
   "metadata": {},
   "source": [
    "**Report:**\n",
    "\n",
    "A *lemma* is the canonical or dictionary form of a word, representing the base from which all its inflected forms are derived. In NLP, the process of lemmatization groups these various forms (e.g., ran, runs, running) under their single shared lemma (run) to normalize text and simplify analysis.\n",
    "\n",
    "★ 4.1.1 Report the 10 most frequent verb lemmas in the corpus.\n",
    "\n",
    "★ 4.1.2 For the top 5 most frequent verb lemmas, show the distribution of their subject lemmas (i.e. by navigating the dependency tree from the root to find the `nsubj` item).\n",
    "\n",
    "★ 4.1.3 Based on your findings, do you observe any relationship between the types of verbs and the types of subjects they take (e.g., are certain verbs more likely to have animate subjects like 'man' or 'I', versus inanimate subjects like 'door' or 'it')? Discuss one interesting example."
   ]
  },
  {
   "cell_type": "code",
   "execution_count": null,
   "id": "u1v2w3x4-spacy",
   "metadata": {},
   "outputs": [],
   "source": [
    "en_corpus_mini = en_corpus[:1000]\n",
    "\n",
    "# TODO: Use spaCy to answer the following questions.\n"
   ]
  },
  {
   "cell_type": "markdown",
   "id": "c3d4e5f6-bonus",
   "metadata": {},
   "source": [
    "## Part 5: Bonus: Language puzzles (10 points)\n",
    "\n",
    "The following sentences are from a perturbed version of a real language, presented alongside their translations into English. Your task is to match each phrase in **Language Y** with its correct **English** translation."
   ]
  },
  {
   "cell_type": "markdown",
   "id": "g7h8i9j0-puzzle",
   "metadata": {},
   "source": [
    "|   | Language Y                     |   | English                  |\n",
    "|---|--------------------------------|---|--------------------------|\n",
    "| A | he shege ptauege yaijeech      | 1 | the cousin's teacher     |\n",
    "| B | heau shege yaijeege stauyau    | 2 | the nurses' cousin       |\n",
    "| C | heau shai ugheedai hyoogeshyau | 3 | the architects' teachers |\n",
    "| D | heau shege eegeege oogheedyau  | 4 | the schools' architect   |\n",
    "| E | he shai stauai eegeech         | 5 | the teachers' schools    |\n",
    "| F | he shai yausai stauich         | 6 | the managers' tools      |\n",
    "| G | he shege hyoogesheege yauseech | 7 | the manager's nurses     |\n",
    "| H | heau shege staueege ptauyau    | 8 | the professor's tool     |\n",
    "\n",
    "**Your Answer:**\n",
    "\n",
    "★ Provide your final matching (e.g., A-1, B-2, C-3, ...). Briefly explain the logic you used to decipher the language, including how possession (e.g., 's) and plurals are marked."
   ]
  },
  {
   "cell_type": "markdown",
   "id": "k1l2m3n4-integrity",
   "metadata": {},
   "source": [
    "## Academic integrity\n",
    "\n",
    "You can discuss high-level solutions with classmates, but your submitted work should be your own. Don't copy from or share code with one another. Provide attribution for any sources of assistance you used in the assignment. If you use generative AI tools to aid in any parts of this assignment, describe how you used them and what worked (or didn't work) when using them."
   ]
  },
  {
   "cell_type": "markdown",
   "id": "68e76859",
   "metadata": {},
   "source": []
  }
 ],
 "metadata": {
  "kernelspec": {
   "display_name": "binding",
   "language": "python",
   "name": "binding"
  },
  "language_info": {
   "codemirror_mode": {
    "name": "ipython",
    "version": 3
   },
   "file_extension": ".py",
   "mimetype": "text/x-python",
   "name": "python",
   "nbconvert_exporter": "python",
   "pygments_lexer": "ipython3",
   "version": "3.10.13"
  }
 },
 "nbformat": 4,
 "nbformat_minor": 5
}
